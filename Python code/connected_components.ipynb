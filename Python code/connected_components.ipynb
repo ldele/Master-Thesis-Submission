{
 "cells": [
  {
   "cell_type": "code",
   "execution_count": 10,
   "id": "7bde7c7c-d610-49bd-8df7-30aac95fd3d9",
   "metadata": {},
   "outputs": [],
   "source": [
    "import numpy as np\n",
    "import dask_image.imread\n",
    "import cc3d # https://github.com/seung-lab/connected-components-3d\n",
    "from skimage import io, morphology, measure\n",
    "from project_module import *\n",
    "from Neuron_analysis import *\n",
    "from anne_module import *"
   ]
  },
  {
   "cell_type": "code",
   "execution_count": 2,
   "id": "25cbfef9-9e27-476e-b000-ee2e38f148bd",
   "metadata": {},
   "outputs": [],
   "source": [
    "%load_ext autoreload\n",
    "%autoreload 2"
   ]
  },
  {
   "cell_type": "code",
   "execution_count": 3,
   "id": "8b4a0b38-7d94-4cf1-9fb4-7062658f54b6",
   "metadata": {},
   "outputs": [],
   "source": [
    "%load_ext Cython"
   ]
  },
  {
   "cell_type": "code",
   "execution_count": 4,
   "id": "14dc5dce-da1b-4413-b43d-ed792ce74c42",
   "metadata": {},
   "outputs": [],
   "source": [
    "%%cython\n",
    "import numpy as np\n",
    "cimport numpy as np\n",
    "\n",
    "def set_to_int(np.ndarray[float, ndim=3] vol, np.ndarray[long long, ndim=2] list_coords, int value = 0):\n",
    "    cdef int i = 0\n",
    "    for i in range(len(list_coords)):\n",
    "        vol[list_coords[i][0],list_coords[i][1],list_coords[i][2]] = value\n",
    "    \n",
    "    return vol"
   ]
  },
  {
   "cell_type": "code",
   "execution_count": 5,
   "id": "b7346c2d-560c-4899-b102-1f465b558fdf",
   "metadata": {},
   "outputs": [],
   "source": [
    "def trim_small_elements(stack_filename, min_threshold, max_threshold=-1, keep_label=False):\n",
    "    # Removing small elements increases the mean probability of remaining pixels. (Post-skeletonization)\n",
    "    # Small elements should be associated with lower probabilities of axon presence (artifacts, blood vessels,...)\n",
    "    # We want the \"big\" stuff\n",
    "    \n",
    "    label_stack = from_folder_to_stack(stack_filename) # loading stack a first time for connected-components labeling\n",
    "    label_stack = label_stack.view(dtype=np.float32) # forces a specific size (should be native size after segmentation) (check if worth doing)\n",
    "    label_stack[label_stack > 0] = 1 # binarization, checking below 0 should be unnecessary (if proper workflow order)\n",
    "    label_stack, N = cc3d.connected_components(label_stack, out_dtype=np.uint32, return_N=True) # better than skimage ?\n",
    "    #label_stack = measure.label(label_stack, background=0) #computationally expensive\n",
    "    print('Start: individual \"blobs\":', N)\n",
    "    \n",
    "    propsa = measure.regionprops(label_stack)\n",
    "    del label_stack #liberate memory\n",
    "    \n",
    "    index_list = []\n",
    "    kept_labels = []\n",
    "    for count, item in enumerate(propsa):\n",
    "        if len(item.coords) < min_threshold:\n",
    "            index_list.append(count)\n",
    "        elif max_threshold > 0 and len(item.coords) > max_threshold:\n",
    "            index_list.append(count)\n",
    "        else:\n",
    "            kept_labels.append(count)\n",
    "            \n",
    "    \n",
    "    #del propsa #liberate memory\n",
    "    print('Blobs that are removed:', len(index_list))\n",
    "    \n",
    "    stack = from_folder_to_stack(stack_filename) # loading stack a second time\n",
    "    stack = stack.view(dtype=np.float32) # Need to check if it is worth doing\n",
    "    \n",
    "    for i in range(len(index_list)):\n",
    "        stack = set_to_int(stack, propsa[index_list[i]].coords, 0)\n",
    "        \n",
    "    if keep_label:\n",
    "        for i in range(len(kept_labels)):\n",
    "            stack = set_to_int(stack, propsa[kept_labels[i]].coords, kept_labels[i]) #cython\n",
    "    \n",
    "    print('End: individual \"blobs\" remaining', N-len(index_list))\n",
    "    \n",
    "    if keep_label:\n",
    "        return np.array(stack,dtype=np.uint16)\n",
    "    else:  \n",
    "        return stack\n",
    "\n",
    "\n",
    "def find_biggest_elements(stack_filename, min_threshold):\n",
    "    \n",
    "    label_stack = from_folder_to_stack(stack_filename) # loading stack a first time for connected-components labeling\n",
    "    label_stack = label_stack.view(dtype=np.float32) # forces a specific size (should be native size after segmentation) (check if worth doing)\n",
    "    label_stack[label_stack > 0] = 1 # binarization, checking below 0 should be unnecessary (if proper workflow order)\n",
    "    label_stack, N = cc3d.connected_components(label_stack, out_dtype=np.uint32, return_N=True) # better than skimage ?\n",
    "    #label_stack = measure.label(label_stack, background=0) #computationally expensive\n",
    "    print('Individual \"blobs\":', N)\n",
    "    \n",
    "    propsa = measure.regionprops(label_stack)\n",
    "    del label_stack #liberate memory\n",
    "    \n",
    "    index_list = []\n",
    "    for count, item in enumerate(propsa):\n",
    "        if len(item.coords) >= min_threshold:\n",
    "            index_list.append(count)\n",
    "            \n",
    "    print(f'Blobs of size superior to {min_threshold}:', len(index_list))\n",
    "                        \n",
    "    return index_list, propsa\n",
    "\n",
    "def keep_selected_elements(stack_filename, label_list):\n",
    "    # Removing small elements increases the mean probability of remaining pixels. (Post-skeletonization)\n",
    "    # Small elements should be associated with lower probabilities of axon presence (artifacts, blood vessels,...)\n",
    "    # We want the \"big\" stuff\n",
    "    \n",
    "    label_stack = from_folder_to_stack(stack_filename) # loading stack a first time for connected-components labeling\n",
    "    label_stack = label_stack.view(dtype=np.float32) # forces a specific size (should be native size after segmentation) (check if worth doing)\n",
    "    label_stack[label_stack > 0] = 1 # binarization, checking below 0 should be unnecessary (if proper workflow order)\n",
    "    label_stack, N = cc3d.connected_components(label_stack, out_dtype=np.uint32, return_N=True) # better than skimage ?\n",
    "    #label_stack = measure.label(label_stack, background=0) #computationally expensive\n",
    "    print('Start: individual \"blobs\":', N)\n",
    "    \n",
    "    propsa = measure.regionprops(label_stack)\n",
    "    del label_stack #liberate memory\n",
    "    \n",
    "    stack = from_folder_to_stack(stack_filename) # loading stack a second time\n",
    "    stack = stack.view(dtype=np.float32) # Need to check if it is worth doing\n",
    "     \n",
    "    if np.max(label_list) > len(propsa):\n",
    "        print(\"Error: illegal label in input label_list. Stack unchanged ! \")\n",
    "        return stack\n",
    "        \n",
    "    check_count = 0\n",
    "    for count, item in enumerate(propsa):\n",
    "        if count not in label_list:\n",
    "            stack = set_to_int(stack, item.coords, 0) #cython\n",
    "            check_count += 1\n",
    "                \n",
    "    print('End: individual \"blobs\" remaining', N-check_count)\n",
    "                \n",
    "    return stack"
   ]
  },
  {
   "cell_type": "code",
   "execution_count": 6,
   "id": "90f75792-bf7e-48ba-8a13-acd4eeb09508",
   "metadata": {},
   "outputs": [],
   "source": [
    "%%cython\n",
    "import numpy as np\n",
    "cimport numpy as np\n",
    "\n",
    "def compute_sum(np.ndarray[float, ndim=3] vol, np.ndarray[long long, ndim=2] list_coords):\n",
    "    cdef double sum_proba = 0.0\n",
    "    cdef int i = 0\n",
    "    for i in range(len(list_coords)):\n",
    "        sum_proba += vol[list_coords[i][0],list_coords[i][1],list_coords[i][2]]\n",
    "    \n",
    "    return sum_proba/len(list_coords)"
   ]
  },
  {
   "cell_type": "code",
   "execution_count": 7,
   "id": "e6721dd6-7c7c-4275-b098-e9ddbfe25eda",
   "metadata": {},
   "outputs": [],
   "source": [
    "def compute_skel_probas(stack_filename, count_only = False):\n",
    "    # Removing small elements increases the mean probability of remaining pixels. (Post-skeletonization)\n",
    "    # Small elements should be associated with lower probabilities of axon presence (artifacts, blood vessels,...)\n",
    "    # We want the \"big\" stuff\n",
    "    \n",
    "    label_stack = from_folder_to_stack(stack_filename) # loading stack a first time for connected-components labeling\n",
    "    label_stack = label_stack.view(dtype=np.float32) # forces a specific size (should be native size after segmentation) (check if worth doing)\n",
    "    label_stack[label_stack > 0] = 1 # binarization, checking below 0 should be unnecessary (if proper workflow order)\n",
    "    label_stack, N = cc3d.connected_components(label_stack, out_dtype=np.uint32, return_N=True) # better than skimage ?\n",
    "    #label_stack = measure.label(label_stack, background=0) #computationally expensive\n",
    "    print('Start: individual \"blobs\":', N)\n",
    "    \n",
    "    propsa = measure.regionprops(label_stack)\n",
    "    del label_stack #liberate memory\n",
    "        \n",
    "    stack = from_folder_to_stack(stack_filename) # loading stack a second time\n",
    "    stack = stack.view(dtype=np.float32) # Need to check if it is worth doing\n",
    "    probablity_densities = []\n",
    "    voxel_count = 0\n",
    "    for count, item in enumerate(propsa):\n",
    "        if not count_only:\n",
    "            probablity_densities.append(compute_sum(stack, item.coords))\n",
    "        voxel_count += len(item.coords)\n",
    "        \n",
    "    print(\"Total number of voxels:\", voxel_count)\n",
    "                \n",
    "    return probablity_densities"
   ]
  },
  {
   "cell_type": "markdown",
   "id": "67471691-1bd6-4482-8a90-eddebbfd9d49",
   "metadata": {},
   "source": [
    "## CC3d only"
   ]
  },
  {
   "cell_type": "code",
   "execution_count": 5,
   "id": "cf14e782-1709-416d-b8bc-2d9903bcd97b",
   "metadata": {},
   "outputs": [],
   "source": [
    "dask_stack = dask_image.imread.imread(r'/data/Lucas/Substacks/AL207s/Al207-substack/*.tif')"
   ]
  },
  {
   "cell_type": "code",
   "execution_count": 6,
   "id": "a06e362f-cb13-4449-816a-4b7bbfa30f14",
   "metadata": {},
   "outputs": [],
   "source": [
    "labels_in = dask_stack.compute()"
   ]
  },
  {
   "cell_type": "code",
   "execution_count": null,
   "id": "095b8829-2a4f-4c43-99ec-dfbd32f35f34",
   "metadata": {},
   "outputs": [],
   "source": [
    "cc3d.dust(labels_in,threshold=100)"
   ]
  },
  {
   "cell_type": "code",
   "execution_count": 2,
   "id": "6c1580a8-b8d9-4327-b9ce-7ecf653dcd1f",
   "metadata": {
    "collapsed": true,
    "jupyter": {
     "outputs_hidden": true
    },
    "tags": []
   },
   "outputs": [
    {
     "ename": "TypeError",
     "evalue": "No matching signature found",
     "output_type": "error",
     "traceback": [
      "\u001b[0;31m---------------------------------------------------------------------------\u001b[0m",
      "\u001b[0;31mTypeError\u001b[0m                                 Traceback (most recent call last)",
      "Input \u001b[0;32mIn [2]\u001b[0m, in \u001b[0;36m<cell line: 4>\u001b[0;34m()\u001b[0m\n\u001b[1;32m      2\u001b[0m labels_in \u001b[38;5;241m=\u001b[39m np\u001b[38;5;241m.\u001b[39mrandom\u001b[38;5;241m.\u001b[39mrandint(\u001b[38;5;241m100\u001b[39m, size\u001b[38;5;241m=\u001b[39m(\u001b[38;5;241m64\u001b[39m,\u001b[38;5;241m64\u001b[39m,\u001b[38;5;241m64\u001b[39m))\n\u001b[1;32m      3\u001b[0m labels_in\u001b[38;5;241m.\u001b[39mastype(\u001b[38;5;28mint\u001b[39m)\n\u001b[0;32m----> 4\u001b[0m \u001b[43mcc3d\u001b[49m\u001b[38;5;241;43m.\u001b[39;49m\u001b[43mdust\u001b[49m\u001b[43m(\u001b[49m\u001b[43mlabels_in\u001b[49m\u001b[43m,\u001b[49m\u001b[43mthreshold\u001b[49m\u001b[38;5;241;43m=\u001b[39;49m\u001b[38;5;241;43m100\u001b[39;49m\u001b[43m)\u001b[49m\n",
      "File \u001b[0;32mcc3d.pyx:1023\u001b[0m, in \u001b[0;36mcc3d.dust\u001b[0;34m()\u001b[0m\n",
      "File \u001b[0;32mcc3d.pyx:922\u001b[0m, in \u001b[0;36mcc3d.erase\u001b[0;34m()\u001b[0m\n",
      "File \u001b[0;32mcc3d.pyx:890\u001b[0m, in \u001b[0;36mcc3d.draw\u001b[0;34m()\u001b[0m\n",
      "File \u001b[0;32mcc3d.pyx:892\u001b[0m, in \u001b[0;36mcc3d.__pyx_fused_cpdef\u001b[0;34m()\u001b[0m\n",
      "\u001b[0;31mTypeError\u001b[0m: No matching signature found"
     ]
    }
   ],
   "source": [
    "#labels_in = np.ones((512, 512, 512), dtype=np.int32)\n",
    "labels_in = np.random.randint(100, size=(64,64,64))\n",
    "labels_in.astype(int)\n",
    "cc3d.dust(labels_in,threshold=100) #dusting does not conserve the labels. Might be beneficial to use only the connected_components function. \n",
    "#labels_out, N = cc3d.connected_components(labels_in, out_dtype=np.uint32, return_N=True) #26 connectivity, max for uint32 is 4'294'967'296 (uint16 is not enough)"
   ]
  },
  {
   "cell_type": "code",
   "execution_count": 16,
   "id": "3b84fc9d-804d-47f0-af6e-d83405ed2f84",
   "metadata": {},
   "outputs": [
    {
     "data": {
      "text/plain": [
       "int"
      ]
     },
     "execution_count": 16,
     "metadata": {},
     "output_type": "execute_result"
    }
   ],
   "source": [
    "type(labels_in[2,2,2])\n",
    "type(12)"
   ]
  },
  {
   "cell_type": "code",
   "execution_count": null,
   "id": "d0ff04fe-0e2e-4703-a10a-04915c15fe74",
   "metadata": {},
   "outputs": [],
   "source": [
    "%%time \n",
    "#takes about 1 minute for (64,64,64) image\n",
    "\n",
    "l = []\n",
    "\n",
    "for label in range(1, N+1):\n",
    "    extracted_image = labels_out*(labels_out == label)\n",
    "    extracted_image = extracted_image[extracted_image!=0]\n",
    "    l.append(len(extracted_image))\n",
    "\n",
    "l=np.array(l)\n",
    "print(np.max(l))"
   ]
  },
  {
   "cell_type": "code",
   "execution_count": 3,
   "id": "6fe2f972-5cb4-4d60-bdfd-211e17ccff2c",
   "metadata": {},
   "outputs": [],
   "source": [
    "a = np.ones((12,12,12))\n",
    "a[1,:,:] = 2"
   ]
  },
  {
   "cell_type": "code",
   "execution_count": 4,
   "id": "5a1af122-9774-49d7-b327-5742c9bcfd7e",
   "metadata": {},
   "outputs": [],
   "source": [
    "a = a[a!=1]"
   ]
  },
  {
   "cell_type": "code",
   "execution_count": 5,
   "id": "30a13ad3-7438-4db0-acaa-60a013179900",
   "metadata": {},
   "outputs": [
    {
     "data": {
      "text/plain": [
       "144"
      ]
     },
     "execution_count": 5,
     "metadata": {},
     "output_type": "execute_result"
    }
   ],
   "source": [
    "len(a)"
   ]
  },
  {
   "cell_type": "markdown",
   "id": "e46a9bef-97f4-4fa6-a36b-cbc5a0faffbc",
   "metadata": {},
   "source": [
    "## Testing Hybrid (skimage + cc3d)"
   ]
  },
  {
   "cell_type": "code",
   "execution_count": 6,
   "id": "ee149c8e-48b5-486e-b8ce-aa55a7d4c015",
   "metadata": {},
   "outputs": [
    {
     "name": "stdout",
     "output_type": "stream",
     "text": [
      "Start: individual \"blobs\": 215100\n",
      "Blobs that are removed: 214959\n",
      "Stack dimensions: (1457, 2048, 2048)\n",
      "/data/Lucas/AL207/AL207_20220428_4_skel_trim already exists. Will be overwritten.\n",
      "CPU times: user 1min 38s, sys: 1min 43s, total: 3min 22s\n",
      "Wall time: 5min 35s\n"
     ]
    }
   ],
   "source": [
    "%%time\n",
    "stack = trim_small_elements(r'/data/Lucas/AL207/skel-seg-AL207_20220428_4/weighted_sum_skeleton', 2000)\n",
    "from_vol_to_folder(stack, r'weighted_skeleton.tif', r'/data/Lucas/AL207/AL207_20220428_4_skel_trim')"
   ]
  },
  {
   "cell_type": "code",
   "execution_count": 7,
   "id": "4827c405-44fd-4eb5-86a2-74b4a25e8e38",
   "metadata": {},
   "outputs": [
    {
     "name": "stdout",
     "output_type": "stream",
     "text": [
      "Start: individual \"blobs\": 222144\n",
      "Blobs that are removed: 222092\n",
      "Stack dimensions: (1381, 2048, 2048)\n",
      "/data/Lucas/AL210/AL210_20220428_4_skel_trim already exists. Will be overwritten.\n",
      "CPU times: user 1min 46s, sys: 2min 48s, total: 4min 35s\n",
      "Wall time: 7min 25s\n"
     ]
    }
   ],
   "source": [
    "%%time\n",
    "stack = trim_small_elements(r'/data/Lucas/AL210/skel-seg-AL210_20220428_4/weighted_sum_skeleton', 2000)\n",
    "from_vol_to_folder(stack, r'weighted_skeleton.tif', r'/data/Lucas/AL210/AL210_20220428_4_skel_trim')"
   ]
  },
  {
   "cell_type": "code",
   "execution_count": 33,
   "id": "ab2ced54-6923-468f-9a9b-cdb332b12acd",
   "metadata": {},
   "outputs": [
    {
     "name": "stdout",
     "output_type": "stream",
     "text": [
      "Start: individual \"blobs\": 269868\n",
      "Blobs that are removed: 269866\n",
      "End: individual \"blobs\" remaining 2\n",
      "Stack dimensions: (1359, 2048, 2048)\n",
      "/data/Lucas/AL215/AL215_20220428_4_skel_trim1e6 already exists. Will be overwritten.\n",
      "CPU times: user 1min 52s, sys: 2min 48s, total: 4min 41s\n",
      "Wall time: 6min 50s\n"
     ]
    }
   ],
   "source": [
    "%%time\n",
    "stack = trim_small_elements(r'/data/Lucas/AL215/skel-seg-AL215_20220428_4/weighted_sum_skeleton', 1000000)\n",
    "from_vol_to_folder(stack, r'weighted_skeleton.tif', r'/data/Lucas/AL215/AL215_20220428_4_skel_trim1e6')\n",
    "del stack"
   ]
  },
  {
   "cell_type": "code",
   "execution_count": 34,
   "id": "fc792fab-df37-4551-9b0e-56ef14f69970",
   "metadata": {},
   "outputs": [
    {
     "name": "stdout",
     "output_type": "stream",
     "text": [
      "Start: individual \"blobs\": 273441\n",
      "Blobs that are removed: 273440\n",
      "End: individual \"blobs\" remaining 1\n",
      "Stack dimensions: (1296, 2048, 2048)\n",
      "/data/Lucas/AL257/AL257_20220428_4_skel_trim1e6 already exists. Will be overwritten.\n",
      "CPU times: user 1min 24s, sys: 1min 26s, total: 2min 51s\n",
      "Wall time: 4min 37s\n"
     ]
    }
   ],
   "source": [
    "%%time\n",
    "stack = trim_small_elements(r'/data/Lucas/AL257/skel-seg-AL257_20220428_4/weighted_sum_skeleton', 1000000)\n",
    "from_vol_to_folder(stack, r'weighted_skeleton.tif', r'/data/Lucas/AL257/AL257_20220428_4_skel_trim1e6')\n",
    "del stack"
   ]
  },
  {
   "cell_type": "markdown",
   "id": "4146b5a3-267b-4731-8566-734578362560",
   "metadata": {},
   "source": [
    "## Analytics"
   ]
  },
  {
   "cell_type": "markdown",
   "id": "06e14388-e3f2-480d-abbe-47ddce36dd7f",
   "metadata": {},
   "source": [
    "## AL207 Dense"
   ]
  },
  {
   "cell_type": "code",
   "execution_count": 8,
   "id": "f977dd24-bd77-4ad5-b122-1be639371775",
   "metadata": {},
   "outputs": [],
   "source": [
    "mouse = 'AL207'"
   ]
  },
  {
   "cell_type": "code",
   "execution_count": 10,
   "id": "29fa7b12-130a-44d5-b1de-60be2ce37594",
   "metadata": {},
   "outputs": [
    {
     "name": "stdout",
     "output_type": "stream",
     "text": [
      "Individual \"blobs\": 73626\n",
      "Blobs of size superior to 10000.0: 10\n"
     ]
    }
   ],
   "source": [
    "i_list, prop = find_biggest_elements(r'/data/Lucas/AL207/skel-seg-AL207_dense/weighted_sum_skeleton', 1e4)"
   ]
  },
  {
   "cell_type": "code",
   "execution_count": 11,
   "id": "0e1c30b4-9145-48cc-8af3-69f4de7a736e",
   "metadata": {},
   "outputs": [
    {
     "name": "stdout",
     "output_type": "stream",
     "text": [
      "Start: individual \"blobs\": 73626\n",
      "Total number of voxels: 3023895\n"
     ]
    },
    {
     "data": {
      "text/plain": [
       "[]"
      ]
     },
     "execution_count": 11,
     "metadata": {},
     "output_type": "execute_result"
    }
   ],
   "source": [
    "compute_skel_probas(f'/data/Lucas/AL207/skel-seg-AL207_dense/weighted_sum_skeleton', True)"
   ]
  },
  {
   "cell_type": "code",
   "execution_count": 12,
   "id": "3e900e05-3f8b-4c1e-ac8c-88590485b638",
   "metadata": {},
   "outputs": [
    {
     "name": "stdout",
     "output_type": "stream",
     "text": [
      "Index number: 617 size: 1594047\n",
      "Index number: 5011 size: 46549\n",
      "Index number: 25470 size: 33775\n",
      "Index number: 29138 size: 12606\n",
      "Index number: 31304 size: 27019\n",
      "Index number: 38029 size: 19380\n",
      "Index number: 39995 size: 211616\n",
      "Index number: 44680 size: 152825\n",
      "Index number: 54285 size: 14872\n",
      "Index number: 61971 size: 10317\n"
     ]
    }
   ],
   "source": [
    "print_biggest_connected_components(i_list, prop)"
   ]
  },
  {
   "cell_type": "code",
   "execution_count": 13,
   "id": "fbd0ab70-be15-44d0-89f6-bf3e49193862",
   "metadata": {},
   "outputs": [
    {
     "name": "stdout",
     "output_type": "stream",
     "text": [
      "Start: individual \"blobs\": 73626\n",
      "Blobs that are removed: 73616\n",
      "End: individual \"blobs\" remaining 10\n",
      "New directory created at: /data/Lucas/AL207/AL207_dense_1e4\n",
      "Stack dimensions: (1457, 2048, 2048)\n",
      "/data/Lucas/AL207/AL207_dense_1e4 already exists. Will be overwritten.\n"
     ]
    }
   ],
   "source": [
    "stack = trim_small_elements(r'/data/Lucas/AL207/skel-seg-AL207_dense/weighted_sum_skeleton', 1e4)\n",
    "from_vol_to_folder(stack, r'weighted_skeleton.tif', r'/data/Lucas/AL207/AL207_dense_1e4')"
   ]
  },
  {
   "cell_type": "code",
   "execution_count": 14,
   "id": "5c2bf186-6f2f-4faf-b95b-f27e24abfee2",
   "metadata": {},
   "outputs": [
    {
     "name": "stdout",
     "output_type": "stream",
     "text": [
      "Start: individual \"blobs\": 73626\n",
      "Blobs that are removed: 73625\n",
      "End: individual \"blobs\" remaining 1\n",
      "New directory created at: /data/Lucas/AL207/AL207_dense_1e6\n",
      "Stack dimensions: (1457, 2048, 2048)\n",
      "/data/Lucas/AL207/AL207_dense_1e6 already exists. Will be overwritten.\n"
     ]
    }
   ],
   "source": [
    "stack = trim_small_elements(r'/data/Lucas/AL207/skel-seg-AL207_dense/weighted_sum_skeleton', 1e6)\n",
    "from_vol_to_folder(stack, r'weighted_skeleton.tif', r'/data/Lucas/AL207/AL207_dense_1e6')"
   ]
  },
  {
   "cell_type": "code",
   "execution_count": 9,
   "id": "0df7490c-add2-45f6-9a19-a80d948cb340",
   "metadata": {},
   "outputs": [
    {
     "name": "stdout",
     "output_type": "stream",
     "text": [
      "Start: individual \"blobs\": 73626\n",
      "Blobs that are removed: 73617\n",
      "End: individual \"blobs\" remaining 9\n",
      "New directory created at: /data/Lucas/AL207/AL207_dense_skel_trim_1e4to1e6_kept\n",
      "Stack dimensions: (1457, 2048, 2048)\n",
      "/data/Lucas/AL207/AL207_dense_skel_trim_1e4to1e6_kept already exists. Will be overwritten.\n"
     ]
    }
   ],
   "source": [
    "stack = trim_small_elements(f'/data/Lucas/{mouse}/skel-seg-{mouse}_dense/weighted_sum_skeleton', 1e4, 1e6, True)\n",
    "from_vol_to_folder(stack, r'weighted_skeleton.tif', f'/data/Lucas/{mouse}/{mouse}_dense_skel_trim_1e4to1e6_kept')"
   ]
  },
  {
   "cell_type": "code",
   "execution_count": 11,
   "id": "7d5a8451-0856-436f-83e5-82bae05bd5cd",
   "metadata": {},
   "outputs": [
    {
     "name": "stdout",
     "output_type": "stream",
     "text": [
      "Start: individual \"blobs\": 73626\n",
      "End: individual \"blobs\" remaining 5\n",
      "New directory created at: /data/Lucas/AL207/AL207_dense_skel_fine_trim\n",
      "Stack dimensions: (1457, 2048, 2048)\n",
      "/data/Lucas/AL207/AL207_dense_skel_fine_trim already exists. Will be overwritten.\n"
     ]
    }
   ],
   "source": [
    "stack = keep_selected_elements(f'/data/Lucas/{mouse}/skel-seg-{mouse}_dense/weighted_sum_skeleton', [617, 31304, 39995, 54285, 44680])\n",
    "from_vol_to_folder(stack, r'weighted_skeleton.tif', f'/data/Lucas/{mouse}/{mouse}_dense_skel_fine_trim')"
   ]
  },
  {
   "cell_type": "code",
   "execution_count": 15,
   "id": "8d40c562-59ab-4440-b8e2-da8eb5ecb579",
   "metadata": {},
   "outputs": [],
   "source": [
    "del stack"
   ]
  },
  {
   "cell_type": "markdown",
   "id": "19fbc1fc-9fc8-4db8-b49d-013f71341dbd",
   "metadata": {
    "tags": []
   },
   "source": [
    "## AL210"
   ]
  },
  {
   "cell_type": "code",
   "execution_count": 8,
   "id": "bb77dc8c-dac1-47df-a2f9-f62b714260bf",
   "metadata": {},
   "outputs": [],
   "source": [
    "mouse = 'AL210'"
   ]
  },
  {
   "cell_type": "code",
   "execution_count": 7,
   "id": "c56c1fde-487a-4838-976d-7d52c5051b9b",
   "metadata": {},
   "outputs": [
    {
     "name": "stdout",
     "output_type": "stream",
     "text": [
      "Individual \"blobs\": 188572\n",
      "Blobs of size superior to 10000: 6\n"
     ]
    }
   ],
   "source": [
    "#AL210\n",
    "i_list, prop = find_biggest_elements(r'/data/Lucas/AL210/skel-seg-AL210_20220506_2/weighted_sum_skeleton', 10000)"
   ]
  },
  {
   "cell_type": "code",
   "execution_count": 8,
   "id": "40760833-d979-409d-bc33-762f6c951861",
   "metadata": {},
   "outputs": [
    {
     "name": "stdout",
     "output_type": "stream",
     "text": [
      "Index number: 12 size: 15106696\n",
      "Index number: 24261 size: 14664\n",
      "Index number: 49292 size: 11429\n",
      "Index number: 158793 size: 17749\n",
      "Index number: 162731 size: 14215\n",
      "Index number: 176515 size: 15601\n"
     ]
    }
   ],
   "source": [
    "print_biggest_connected_components(i_list, prop)"
   ]
  },
  {
   "cell_type": "code",
   "execution_count": 9,
   "id": "7758274a-5d1e-446d-a898-6843e9f061ef",
   "metadata": {},
   "outputs": [
    {
     "name": "stdout",
     "output_type": "stream",
     "text": [
      "Start: individual \"blobs\": 188572\n",
      "Blobs that are removed: 188567\n",
      "End: individual \"blobs\" remaining 5\n",
      "New directory created at: /data/Lucas/AL210/AL210_20220506_2_skel_trim_1e4to1e5\n",
      "Stack dimensions: (1381, 2048, 2048)\n",
      "/data/Lucas/AL210/AL210_20220506_2_skel_trim_1e4to1e5 already exists. Will be overwritten.\n"
     ]
    }
   ],
   "source": [
    "stack = trim_small_elements(r'/data/Lucas/AL210/skel-seg-AL210_20220506_2/weighted_sum_skeleton', 1e4, 1e5)\n",
    "from_vol_to_folder(stack, r'weighted_skeleton.tif', r'/data/Lucas/AL210/AL210_20220506_2_skel_trim_1e4to1e5')"
   ]
  },
  {
   "cell_type": "code",
   "execution_count": 9,
   "id": "e54219a8-3b62-4554-a223-cf57aa38c636",
   "metadata": {},
   "outputs": [
    {
     "name": "stdout",
     "output_type": "stream",
     "text": [
      "Start: individual \"blobs\": 188572\n",
      "Blobs that are removed: 188567\n",
      "End: individual \"blobs\" remaining 5\n",
      "New directory created at: /data/Lucas/AL210/AL210_20220506_2_skel_trim_1e4to1e5_kept\n",
      "Stack dimensions: (1381, 2048, 2048)\n",
      "/data/Lucas/AL210/AL210_20220506_2_skel_trim_1e4to1e5_kept already exists. Will be overwritten.\n"
     ]
    }
   ],
   "source": [
    "stack = trim_small_elements(f'/data/Lucas/{mouse}/skel-seg-{mouse}_20220506_2/weighted_sum_skeleton', 1e4, 1e5, True)\n",
    "from_vol_to_folder(stack, r'weighted_skeleton.tif', f'/data/Lucas/{mouse}/{mouse}_20220506_2_skel_trim_1e4to1e5_kept')"
   ]
  },
  {
   "cell_type": "code",
   "execution_count": 15,
   "id": "48d98ed2-344c-4bdd-be60-61c66f9c73a3",
   "metadata": {},
   "outputs": [
    {
     "name": "stdout",
     "output_type": "stream",
     "text": [
      "Start: individual \"blobs\": 188572\n",
      "Blobs that are removed: 188571\n",
      "End: individual \"blobs\" remaining 1\n",
      "Stack dimensions: (1381, 2048, 2048)\n",
      "/data/Lucas/AL210/AL210_20220506_2_skel_trim_1e6 already exists. Will be overwritten.\n"
     ]
    }
   ],
   "source": [
    "stack = trim_small_elements(r'/data/Lucas/AL210/skel-seg-AL210_20220506_2/weighted_sum_skeleton', 1e6)\n",
    "from_vol_to_folder(stack, r'weighted_skeleton.tif', r'/data/Lucas/AL210/AL210_20220506_2_skel_trim_1e6')"
   ]
  },
  {
   "cell_type": "code",
   "execution_count": 10,
   "id": "b848092b-1010-41fb-8d1d-ff942407e320",
   "metadata": {},
   "outputs": [
    {
     "name": "stdout",
     "output_type": "stream",
     "text": [
      "Start: individual \"blobs\": 188572\n",
      "End: individual \"blobs\" remaining 2\n",
      "New directory created at: /data/Lucas/AL210/AL210_20220506_2_skel_fine_trim\n",
      "Stack dimensions: (1381, 2048, 2048)\n",
      "/data/Lucas/AL210/AL210_20220506_2_skel_fine_trim already exists. Will be overwritten.\n"
     ]
    }
   ],
   "source": [
    "stack = keep_selected_elements(f'/data/Lucas/{mouse}/skel-seg-{mouse}_20220506_2/weighted_sum_skeleton', [12, 162731])\n",
    "from_vol_to_folder(stack, r'weighted_skeleton.tif', f'/data/Lucas/{mouse}/{mouse}_20220506_2_skel_fine_trim')"
   ]
  },
  {
   "cell_type": "code",
   "execution_count": 1,
   "id": "51e97601-d629-46fd-8823-70d284626680",
   "metadata": {},
   "outputs": [
    {
     "ename": "NameError",
     "evalue": "name 'prop' is not defined",
     "output_type": "error",
     "traceback": [
      "\u001b[0;31m---------------------------------------------------------------------------\u001b[0m",
      "\u001b[0;31mNameError\u001b[0m                                 Traceback (most recent call last)",
      "Input \u001b[0;32mIn [1]\u001b[0m, in \u001b[0;36m<cell line: 1>\u001b[0;34m()\u001b[0m\n\u001b[0;32m----> 1\u001b[0m \u001b[38;5;28;01mdel\u001b[39;00m prop\n",
      "\u001b[0;31mNameError\u001b[0m: name 'prop' is not defined"
     ]
    }
   ],
   "source": [
    "del prop"
   ]
  },
  {
   "cell_type": "markdown",
   "id": "e66dfcdb-c6f0-4f4c-bfc8-58e2994565cc",
   "metadata": {},
   "source": [
    "## AL207"
   ]
  },
  {
   "cell_type": "code",
   "execution_count": 9,
   "id": "509f7a89-c0ed-4037-b375-eded608741ea",
   "metadata": {},
   "outputs": [],
   "source": [
    "mouse = 'AL207'"
   ]
  },
  {
   "cell_type": "code",
   "execution_count": 16,
   "id": "4038bdc9-8a67-4580-a30b-252084fc3ffa",
   "metadata": {},
   "outputs": [
    {
     "name": "stdout",
     "output_type": "stream",
     "text": [
      "Individual \"blobs\": 178285\n",
      "Blobs of size superior to 10000.0: 14\n"
     ]
    }
   ],
   "source": [
    "i_list, prop = find_biggest_elements(f'/data/Lucas/{mouse}/skel-seg-{mouse}_20220506_2/weighted_sum_skeleton', 1e4)"
   ]
  },
  {
   "cell_type": "code",
   "execution_count": 17,
   "id": "fcc8a748-a99b-4a91-813b-b26268193b68",
   "metadata": {},
   "outputs": [
    {
     "name": "stdout",
     "output_type": "stream",
     "text": [
      "Index number: 1110 size: 3652024\n",
      "Index number: 5089 size: 44222\n",
      "Index number: 8335 size: 12154\n",
      "Index number: 18790 size: 14606\n",
      "Index number: 20044 size: 49931\n",
      "Index number: 23984 size: 11978\n",
      "Index number: 82169 size: 32360\n",
      "Index number: 83584 size: 10596\n",
      "Index number: 85569 size: 32062\n",
      "Index number: 99631 size: 13818\n",
      "Index number: 109569 size: 22464\n",
      "Index number: 137546 size: 12628\n",
      "Index number: 138428 size: 14537\n",
      "Index number: 158562 size: 28891\n"
     ]
    }
   ],
   "source": [
    "print_biggest_connected_components(i_list, prop)"
   ]
  },
  {
   "cell_type": "code",
   "execution_count": 18,
   "id": "e5601483-33f5-4996-b48b-ef0462251f74",
   "metadata": {},
   "outputs": [
    {
     "name": "stdout",
     "output_type": "stream",
     "text": [
      "Start: individual \"blobs\": 178285\n",
      "Total number of voxels: 5871383\n"
     ]
    },
    {
     "data": {
      "text/plain": [
       "[]"
      ]
     },
     "execution_count": 18,
     "metadata": {},
     "output_type": "execute_result"
    }
   ],
   "source": [
    "compute_skel_probas(f'/data/Lucas/{mouse}/skel-seg-{mouse}_20220506_2/weighted_sum_skeleton', True)"
   ]
  },
  {
   "cell_type": "code",
   "execution_count": 20,
   "id": "53d85de8-5c93-4d01-a196-4d95db1b7adc",
   "metadata": {},
   "outputs": [
    {
     "name": "stdout",
     "output_type": "stream",
     "text": [
      "Start: individual \"blobs\": 178285\n",
      "Blobs that are removed: 178284\n",
      "End: individual \"blobs\" remaining 1\n",
      "New directory created at: /data/Lucas/AL207/AL207_20220506_2_skel_trim_1e6\n",
      "Stack dimensions: (1457, 2048, 2048)\n",
      "/data/Lucas/AL207/AL207_20220506_2_skel_trim_1e6 already exists. Will be overwritten.\n"
     ]
    }
   ],
   "source": [
    "stack = trim_small_elements(f'/data/Lucas/{mouse}/skel-seg-{mouse}_20220506_2/weighted_sum_skeleton', 1e6)\n",
    "from_vol_to_folder(stack, r'weighted_skeleton.tif', f'/data/Lucas/{mouse}/{mouse}_20220506_2_skel_trim_1e6')"
   ]
  },
  {
   "cell_type": "code",
   "execution_count": 18,
   "id": "98cbe05d-9b0a-48d4-b0dd-0c92834ec3a1",
   "metadata": {},
   "outputs": [
    {
     "name": "stdout",
     "output_type": "stream",
     "text": [
      "Start: individual \"blobs\": 178285\n",
      "Blobs that are removed: 178272\n",
      "End: individual \"blobs\" remaining 13\n",
      "Stack dimensions: (1457, 2048, 2048)\n",
      "/data/Lucas/AL207/AL207_20220506_2_skel_trim_1e4to1e5_kept already exists. Will be overwritten.\n"
     ]
    }
   ],
   "source": [
    "stack = trim_small_elements(f'/data/Lucas/{mouse}/skel-seg-{mouse}_20220506_2/weighted_sum_skeleton', 1e4, 1e5, True)\n",
    "from_vol_to_folder(stack, r'weighted_skeleton.tif', f'/data/Lucas/{mouse}/{mouse}_20220506_2_skel_trim_1e4to1e5_kept')"
   ]
  },
  {
   "cell_type": "code",
   "execution_count": null,
   "id": "4ba5015f-d6e4-48aa-9613-b35f5455c911",
   "metadata": {},
   "outputs": [],
   "source": [
    "proba = compute_skel_probas(f'/data/Lucas/{mouse}/{mouse}_20220506_2_skel_trim_1e4to1e5')"
   ]
  },
  {
   "cell_type": "code",
   "execution_count": 10,
   "id": "697de17d-7699-42ad-b9d7-d135a04d78dc",
   "metadata": {},
   "outputs": [
    {
     "name": "stdout",
     "output_type": "stream",
     "text": [
      "Start: individual \"blobs\": 178285\n",
      "Total number of voxels: 5871383\n"
     ]
    }
   ],
   "source": [
    "proba = compute_skel_probas(f'/data/Lucas/{mouse}/skel-seg-{mouse}_20220506_2/weighted_sum_skeleton', True)"
   ]
  },
  {
   "cell_type": "code",
   "execution_count": 11,
   "id": "44785c7d-c757-408e-aa7d-e81845b642a3",
   "metadata": {},
   "outputs": [
    {
     "name": "stdout",
     "output_type": "stream",
     "text": [
      "[]\n"
     ]
    }
   ],
   "source": [
    "print(proba)"
   ]
  },
  {
   "cell_type": "code",
   "execution_count": null,
   "id": "16939ca5-40ba-41eb-b86b-96a12acbb59e",
   "metadata": {},
   "outputs": [
    {
     "name": "stdout",
     "output_type": "stream",
     "text": [
      "Start: individual \"blobs\": 178285\n"
     ]
    }
   ],
   "source": [
    "stack = keep_selected_elements(f'/data/Lucas/{mouse}/skel-seg-{mouse}_20220506_2/weighted_sum_skeleton', [1110, 18790])\n",
    "from_vol_to_folder(stack, r'weighted_skeleton.tif', f'/data/Lucas/{mouse}/{mouse}_20220506_2_skel_fine_trim')"
   ]
  },
  {
   "cell_type": "markdown",
   "id": "93063937-3dbc-4233-9aba-c3372f39ff5b",
   "metadata": {},
   "source": [
    "### Default weights AL207"
   ]
  },
  {
   "cell_type": "code",
   "execution_count": 14,
   "id": "54c371a1-435b-4109-b5de-3fe50c98ef25",
   "metadata": {},
   "outputs": [],
   "source": [
    "mouse = 'AL207'"
   ]
  },
  {
   "cell_type": "code",
   "execution_count": 15,
   "id": "45952fed-30de-407f-92f6-cf420e77c331",
   "metadata": {},
   "outputs": [
    {
     "name": "stdout",
     "output_type": "stream",
     "text": [
      "Individual \"blobs\": 36131\n",
      "Blobs of size superior to 10000.0: 6\n",
      "Index number: 242 size: 1150423\n",
      "Index number: 2591 size: 18163\n",
      "Index number: 14382 size: 20682\n",
      "Index number: 20776 size: 14794\n",
      "Index number: 22742 size: 178131\n",
      "Index number: 23948 size: 130759\n"
     ]
    }
   ],
   "source": [
    "i_list, prop = find_biggest_elements(f'/data/Lucas/{mouse}/skel-seg-{mouse}_default/weighted_sum_skeleton', 1e4)\n",
    "print_biggest_connected_components(i_list, prop)"
   ]
  },
  {
   "cell_type": "code",
   "execution_count": 16,
   "id": "634bd6d2-c669-4c74-bdc5-f3be27603f79",
   "metadata": {},
   "outputs": [
    {
     "name": "stdout",
     "output_type": "stream",
     "text": [
      "Start: individual \"blobs\": 36131\n",
      "Total number of voxels: 2016841\n"
     ]
    },
    {
     "data": {
      "text/plain": [
       "[]"
      ]
     },
     "execution_count": 16,
     "metadata": {},
     "output_type": "execute_result"
    }
   ],
   "source": [
    "compute_skel_probas(f'/data/Lucas/{mouse}/skel-seg-{mouse}_default/weighted_sum_skeleton', True)"
   ]
  },
  {
   "cell_type": "code",
   "execution_count": 12,
   "id": "c47a9db4-6cef-4a15-9cbb-8c2e56251217",
   "metadata": {},
   "outputs": [
    {
     "name": "stdout",
     "output_type": "stream",
     "text": [
      "Start: individual \"blobs\": 36131\n",
      "Blobs that are removed: 36126\n",
      "End: individual \"blobs\" remaining 5\n",
      "New directory created at: /data/Lucas/AL207/AL207_default_skel_trim_1e4to1e6_kept\n",
      "Stack dimensions: (1457, 2048, 2048)\n",
      "/data/Lucas/AL207/AL207_default_skel_trim_1e4to1e6_kept already exists. Will be overwritten.\n"
     ]
    }
   ],
   "source": [
    "stack = trim_small_elements(f'/data/Lucas/{mouse}/skel-seg-{mouse}_default/weighted_sum_skeleton', 1e4, 1e6, True)\n",
    "from_vol_to_folder(stack, r'weighted_skeleton.tif', f'/data/Lucas/{mouse}/{mouse}_default_skel_trim_1e4to1e6_kept')"
   ]
  },
  {
   "cell_type": "code",
   "execution_count": 13,
   "id": "df4979db-e522-49d2-9ea5-a7eebc343eca",
   "metadata": {},
   "outputs": [
    {
     "name": "stdout",
     "output_type": "stream",
     "text": [
      "Start: individual \"blobs\": 36131\n",
      "Blobs that are removed: 36130\n",
      "End: individual \"blobs\" remaining 1\n",
      "New directory created at: /data/Lucas/AL207/AL207_default_skel_trim_1e6\n",
      "Stack dimensions: (1457, 2048, 2048)\n",
      "/data/Lucas/AL207/AL207_default_skel_trim_1e6 already exists. Will be overwritten.\n"
     ]
    }
   ],
   "source": [
    "stack = trim_small_elements(f'/data/Lucas/{mouse}/skel-seg-{mouse}_default/weighted_sum_skeleton', 1e6)\n",
    "from_vol_to_folder(stack, r'weighted_skeleton.tif', f'/data/Lucas/{mouse}/{mouse}_default_skel_trim_1e6')"
   ]
  },
  {
   "cell_type": "code",
   "execution_count": 14,
   "id": "0113da21-90de-421e-9319-1717d1eaff72",
   "metadata": {},
   "outputs": [
    {
     "name": "stdout",
     "output_type": "stream",
     "text": [
      "Start: individual \"blobs\": 36131\n",
      "Blobs that are removed: 36125\n",
      "End: individual \"blobs\" remaining 6\n",
      "New directory created at: /data/Lucas/AL207/AL207_default_skel_trim_1e4\n",
      "Stack dimensions: (1457, 2048, 2048)\n",
      "/data/Lucas/AL207/AL207_default_skel_trim_1e4 already exists. Will be overwritten.\n"
     ]
    }
   ],
   "source": [
    "stack = trim_small_elements(f'/data/Lucas/{mouse}/skel-seg-{mouse}_default/weighted_sum_skeleton', 1e4)\n",
    "from_vol_to_folder(stack, r'weighted_skeleton.tif', f'/data/Lucas/{mouse}/{mouse}_default_skel_trim_1e4')"
   ]
  },
  {
   "cell_type": "code",
   "execution_count": 15,
   "id": "594f97a4-b62a-4d14-9c3d-d4e5cd8de6e3",
   "metadata": {},
   "outputs": [
    {
     "name": "stdout",
     "output_type": "stream",
     "text": [
      "Start: individual \"blobs\": 73626\n",
      "End: individual \"blobs\" remaining 4\n",
      "Stack dimensions: (1457, 2048, 2048)\n",
      "/data/Lucas/AL207/AL207_dense_skel_fine_trim already exists. Will be overwritten.\n"
     ]
    }
   ],
   "source": [
    "stack = keep_selected_elements(f'/data/Lucas/{mouse}/skel-seg-{mouse}_dense/weighted_sum_skeleton', [242, 22742, 23948, 20776])\n",
    "from_vol_to_folder(stack, r'weighted_skeleton.tif', f'/data/Lucas/{mouse}/{mouse}_dense_skel_fine_trim')"
   ]
  },
  {
   "cell_type": "markdown",
   "id": "26cd50f8-e598-428a-93eb-b41cf01b3e7c",
   "metadata": {},
   "source": [
    "## AL213"
   ]
  },
  {
   "cell_type": "code",
   "execution_count": 14,
   "id": "62cfd432-2d19-4b97-90dc-b2b2f94f9669",
   "metadata": {},
   "outputs": [],
   "source": [
    "mouse = 'AL213'"
   ]
  },
  {
   "cell_type": "code",
   "execution_count": 8,
   "id": "8af2ddb7-6387-443a-a51b-a81fa645ea63",
   "metadata": {},
   "outputs": [
    {
     "name": "stdout",
     "output_type": "stream",
     "text": [
      "Individual \"blobs\": 236119\n",
      "Blobs of size superior to 10000: 5\n",
      "Index number: 138 size: 22812456\n",
      "Index number: 11914 size: 11272\n",
      "Index number: 138417 size: 26212\n",
      "Index number: 147973 size: 32862\n",
      "Index number: 178435 size: 15255\n"
     ]
    }
   ],
   "source": [
    "i_list, prop = find_biggest_elements(r'/data/Lucas/AL213/skel-seg-AL213_20220506_2/weighted_sum_skeleton', 10000)\n",
    "print_biggest_connected_components(i_list, prop)"
   ]
  },
  {
   "cell_type": "code",
   "execution_count": 9,
   "id": "28936300-c54b-45ac-bbe1-80d6a1c8094c",
   "metadata": {},
   "outputs": [
    {
     "name": "stdout",
     "output_type": "stream",
     "text": [
      "Start: individual \"blobs\": 236119\n",
      "Blobs that are removed: 236115\n",
      "End: individual \"blobs\" remaining 4\n",
      "New directory created at: /data/Lucas/AL213/AL213_20220506_2_skel_trim_1e4to1e5\n",
      "Stack dimensions: (1537, 2048, 2048)\n",
      "/data/Lucas/AL213/AL213_20220506_2_skel_trim_1e4to1e5 already exists. Will be overwritten.\n"
     ]
    }
   ],
   "source": [
    "stack = trim_small_elements(r'/data/Lucas/AL213/skel-seg-AL213_20220506_2/weighted_sum_skeleton', 1e4, 1e5)\n",
    "from_vol_to_folder(stack, r'weighted_skeleton.tif', r'/data/Lucas/AL213/AL213_20220506_2_skel_trim_1e4to1e5')"
   ]
  },
  {
   "cell_type": "code",
   "execution_count": 12,
   "id": "75ed46c7-54ff-4544-8087-a0fd3f11ff65",
   "metadata": {},
   "outputs": [
    {
     "name": "stdout",
     "output_type": "stream",
     "text": [
      "Start: individual \"blobs\": 236119\n",
      "Blobs that are removed: 236115\n",
      "End: individual \"blobs\" remaining 4\n",
      "New directory created at: /data/Lucas/AL213/AL213_20220506_2_skel_trim_1e4to1e5_kept\n",
      "Stack dimensions: (1537, 2048, 2048)\n",
      "/data/Lucas/AL213/AL213_20220506_2_skel_trim_1e4to1e5_kept already exists. Will be overwritten.\n"
     ]
    }
   ],
   "source": [
    "stack = trim_small_elements(f'/data/Lucas/{mouse}/skel-seg-{mouse}_20220506_2/weighted_sum_skeleton', 1e4, 1e5, True)\n",
    "from_vol_to_folder(stack, r'weighted_skeleton.tif', f'/data/Lucas/{mouse}/{mouse}_20220506_2_skel_trim_1e4to1e5_kept')"
   ]
  },
  {
   "cell_type": "code",
   "execution_count": 10,
   "id": "d38c2ae3-6e1a-4c7d-a181-96146684de19",
   "metadata": {},
   "outputs": [
    {
     "name": "stdout",
     "output_type": "stream",
     "text": [
      "Start: individual \"blobs\": 236119\n",
      "Blobs that are removed: 236118\n",
      "End: individual \"blobs\" remaining 1\n",
      "Stack dimensions: (1537, 2048, 2048)\n",
      "/data/Lucas/AL213/AL213_20220506_2_skel_trim_1e6 already exists. Will be overwritten.\n"
     ]
    }
   ],
   "source": [
    "stack = trim_small_elements(r'/data/Lucas/AL213/skel-seg-AL213_20220506_2/weighted_sum_skeleton', 1e6)\n",
    "from_vol_to_folder(stack, r'weighted_skeleton.tif', r'/data/Lucas/AL213/AL213_20220506_2_skel_trim_1e6')"
   ]
  },
  {
   "cell_type": "code",
   "execution_count": 15,
   "id": "2d44eacd-aaeb-4758-83d1-76d7ed26f214",
   "metadata": {},
   "outputs": [
    {
     "name": "stdout",
     "output_type": "stream",
     "text": [
      "Start: individual \"blobs\": 236119\n",
      "Blobs that are removed: 236114\n",
      "End: individual \"blobs\" remaining 5\n",
      "New directory created at: /data/Lucas/AL213/AL213_20220506_2_skel_trim_1e4\n",
      "Stack dimensions: (1537, 2048, 2048)\n",
      "/data/Lucas/AL213/AL213_20220506_2_skel_trim_1e4 already exists. Will be overwritten.\n"
     ]
    }
   ],
   "source": [
    "stack = trim_small_elements(f'/data/Lucas/{mouse}/skel-seg-{mouse}_20220506_2/weighted_sum_skeleton', 1e4)\n",
    "from_vol_to_folder(stack, r'weighted_skeleton.tif', f'/data/Lucas/{mouse}/{mouse}_20220506_2_skel_trim_1e4')"
   ]
  },
  {
   "cell_type": "code",
   "execution_count": 13,
   "id": "475674bb-d7de-45c4-b6c6-53bf81628bb3",
   "metadata": {
    "tags": []
   },
   "outputs": [],
   "source": [
    "del stack"
   ]
  },
  {
   "cell_type": "markdown",
   "id": "a0a7bbc7-c406-4177-86d7-bca80e34645a",
   "metadata": {},
   "source": [
    "## AL209"
   ]
  },
  {
   "cell_type": "code",
   "execution_count": null,
   "id": "b29cd56e-4c73-41f3-aad9-919b597251cc",
   "metadata": {},
   "outputs": [],
   "source": [
    "mouse = 'AL209'"
   ]
  },
  {
   "cell_type": "code",
   "execution_count": null,
   "id": "8e3a2d0c-8394-470a-9baa-39068455343e",
   "metadata": {},
   "outputs": [],
   "source": [
    "stack = trim_small_elements(f'/data/Lucas/{mouse}/skel-seg-{mouse}_20220506_2/weighted_sum_skeleton', 1e6)\n",
    "from_vol_to_folder(stack, r'weighted_skeleton.tif', f'/data/Lucas/{mouse}/{mouse}_20220506_2_skel_trim_1e6')"
   ]
  },
  {
   "cell_type": "code",
   "execution_count": 12,
   "id": "6c82171e-c868-49b1-b89c-3f366a9099ae",
   "metadata": {},
   "outputs": [
    {
     "name": "stdout",
     "output_type": "stream",
     "text": [
      "Individual \"blobs\": 165638\n",
      "Blobs of size superior to 10000: 11\n",
      "Index number: 2 size: 32382\n",
      "Index number: 59 size: 4162406\n",
      "Index number: 82981 size: 14176\n",
      "Index number: 85611 size: 34287\n",
      "Index number: 105259 size: 181854\n",
      "Index number: 113582 size: 16443\n",
      "Index number: 126873 size: 20799\n",
      "Index number: 128635 size: 16223\n",
      "Index number: 129409 size: 10219\n",
      "Index number: 131573 size: 10081\n",
      "Index number: 142982 size: 17374\n"
     ]
    }
   ],
   "source": [
    "i_list, prop = find_biggest_elements(r'/data/Lucas/AL209/skel-seg-AL209_20220506_2/weighted_sum_skeleton', 10000)\n",
    "print_biggest_connected_components(i_list, prop)"
   ]
  },
  {
   "cell_type": "code",
   "execution_count": 7,
   "id": "40a1b3ae-b535-4b57-aa9a-013e29ce12d4",
   "metadata": {},
   "outputs": [
    {
     "name": "stdout",
     "output_type": "stream",
     "text": [
      "Start: individual \"blobs\": 165638\n",
      "Blobs that are removed: 165627\n",
      "End: individual \"blobs\" remaining 11\n",
      "New directory created at: /data/Lucas/AL209/AL209_20220506_2_skel_trim_1e4\n",
      "Stack dimensions: (1702, 2048, 2048)\n",
      "/data/Lucas/AL209/AL209_20220506_2_skel_trim_1e4 already exists. Will be overwritten.\n"
     ]
    }
   ],
   "source": [
    "stack = trim_small_elements(r'/data/Lucas/AL209/skel-seg-AL209_20220506_2/weighted_sum_skeleton', 1e4)\n",
    "from_vol_to_folder(stack, r'weighted_skeleton.tif', r'/data/Lucas/AL209/AL209_20220506_2_skel_trim_1e4')"
   ]
  },
  {
   "cell_type": "code",
   "execution_count": 14,
   "id": "dea8afea-a68a-4ace-b15d-43cf38133a96",
   "metadata": {},
   "outputs": [
    {
     "name": "stdout",
     "output_type": "stream",
     "text": [
      "Start: individual \"blobs\": 165638\n",
      "Blobs that are removed: 165637\n",
      "End: individual \"blobs\" remaining 1\n",
      "New directory created at: /data/Lucas/AL209/AL209_20220506_2_skel_trim_1e5to1e6\n",
      "Stack dimensions: (1702, 2048, 2048)\n",
      "/data/Lucas/AL209/AL209_20220506_2_skel_trim_1e5to1e6 already exists. Will be overwritten.\n"
     ]
    }
   ],
   "source": [
    "stack = trim_small_elements(r'/data/Lucas/AL209/skel-seg-AL209_20220506_2/weighted_sum_skeleton', 1e5, 1e6)\n",
    "from_vol_to_folder(stack, r'weighted_skeleton.tif', r'/data/Lucas/AL209/AL209_20220506_2_skel_trim_1e5to1e6')"
   ]
  },
  {
   "cell_type": "code",
   "execution_count": 8,
   "id": "0e8d35b9-02e0-490d-826b-36b7a8953bac",
   "metadata": {},
   "outputs": [
    {
     "name": "stdout",
     "output_type": "stream",
     "text": [
      "Start: individual \"blobs\": 165638\n",
      "Blobs that are removed: 165629\n",
      "End: individual \"blobs\" remaining 9\n",
      "Stack dimensions: (1702, 2048, 2048)\n",
      "/data/Lucas/AL209/AL209_20220506_2_skel_trim_1e6 already exists. Will be overwritten.\n"
     ]
    }
   ],
   "source": [
    "stack = trim_small_elements(r'/data/Lucas/AL209/skel-seg-AL209_20220506_2/weighted_sum_skeleton', 1e4, 1e5)\n",
    "from_vol_to_folder(stack, r'weighted_skeleton.tif', r'/data/Lucas/AL209/AL209_20220506_2_skel_trim_1e6')"
   ]
  },
  {
   "cell_type": "code",
   "execution_count": 9,
   "id": "75b31b8d-0911-4b85-ac19-a26de5e217a6",
   "metadata": {},
   "outputs": [
    {
     "name": "stdout",
     "output_type": "stream",
     "text": [
      "Start: individual \"blobs\": 165638\n",
      "Blobs that are removed: 165636\n",
      "End: individual \"blobs\" remaining 2\n",
      "New directory created at: /data/Lucas/AL209/AL209_20220506_2_skel_trim_1e5\n",
      "Stack dimensions: (1702, 2048, 2048)\n",
      "/data/Lucas/AL209/AL209_20220506_2_skel_trim_1e5 already exists. Will be overwritten.\n"
     ]
    }
   ],
   "source": [
    "stack = trim_small_elements(r'/data/Lucas/AL209/skel-seg-AL209_20220506_2/weighted_sum_skeleton', 1e5)\n",
    "from_vol_to_folder(stack, r'weighted_skeleton.tif', r'/data/Lucas/AL209/AL209_20220506_2_skel_trim_1e5')"
   ]
  },
  {
   "cell_type": "markdown",
   "id": "c8474125-a731-4082-a426-7a3a6c8765f8",
   "metadata": {},
   "source": [
    "## AL215"
   ]
  },
  {
   "cell_type": "code",
   "execution_count": 11,
   "id": "f5640f85-e108-4a04-99a5-a91c1398435c",
   "metadata": {},
   "outputs": [],
   "source": [
    "mouse = 'AL215'"
   ]
  },
  {
   "cell_type": "code",
   "execution_count": 12,
   "id": "67b9b919-278a-49df-923a-e470400e3530",
   "metadata": {},
   "outputs": [
    {
     "name": "stdout",
     "output_type": "stream",
     "text": [
      "Start: individual \"blobs\": 250430\n",
      "Total number of voxels: 24812069\n"
     ]
    },
    {
     "data": {
      "text/plain": [
       "[]"
      ]
     },
     "execution_count": 12,
     "metadata": {},
     "output_type": "execute_result"
    }
   ],
   "source": [
    "compute_skel_probas(f'/data/Lucas/{mouse}/skel-seg-{mouse}_20220506_2/weighted_sum_skeleton', True)"
   ]
  },
  {
   "cell_type": "code",
   "execution_count": 15,
   "id": "6f262690-7d49-4a1c-86e0-8a4828145f00",
   "metadata": {},
   "outputs": [
    {
     "name": "stdout",
     "output_type": "stream",
     "text": [
      "Individual \"blobs\": 250430\n",
      "Blobs of size superior to 10000.0: 11\n",
      "Index number: 6 size: 19632984\n",
      "Index number: 3766 size: 11522\n",
      "Index number: 13631 size: 25157\n",
      "Index number: 21192 size: 2732424\n",
      "Index number: 26906 size: 26341\n",
      "Index number: 124828 size: 12278\n",
      "Index number: 156659 size: 67780\n",
      "Index number: 157238 size: 13845\n",
      "Index number: 186140 size: 10015\n",
      "Index number: 211523 size: 12148\n",
      "Index number: 215752 size: 36056\n"
     ]
    }
   ],
   "source": [
    "i_list, prop = find_biggest_elements(f'/data/Lucas/{mouse}/skel-seg-{mouse}_20220506_2/weighted_sum_skeleton', 1e4)\n",
    "print_biggest_connected_components(i_list, prop)"
   ]
  },
  {
   "cell_type": "code",
   "execution_count": 19,
   "id": "8e789054-39a1-4d22-9470-88c64edcb0fb",
   "metadata": {},
   "outputs": [
    {
     "name": "stdout",
     "output_type": "stream",
     "text": [
      "Start: individual \"blobs\": 250430\n",
      "Blobs that are removed: 250421\n",
      "End: individual \"blobs\" remaining 9\n",
      "New directory created at: /data/Lucas/AL215/AL215_20220506_2_skel_trim_1e4to1e6_kept\n",
      "Stack dimensions: (1359, 2048, 2048)\n",
      "/data/Lucas/AL215/AL215_20220506_2_skel_trim_1e4to1e6_kept already exists. Will be overwritten.\n"
     ]
    }
   ],
   "source": [
    "stack = trim_small_elements(f'/data/Lucas/{mouse}/skel-seg-{mouse}_20220506_2/weighted_sum_skeleton', 1e4, 1e6, True)\n",
    "from_vol_to_folder(stack, r'weighted_skeleton.tif', f'/data/Lucas/{mouse}/{mouse}_20220506_2_skel_trim_1e4to1e6_kept')"
   ]
  },
  {
   "cell_type": "code",
   "execution_count": 20,
   "id": "1ef2b551-c01f-458c-9c5a-bd80423078a9",
   "metadata": {},
   "outputs": [
    {
     "name": "stdout",
     "output_type": "stream",
     "text": [
      "Start: individual \"blobs\": 250430\n",
      "Blobs that are removed: 250428\n",
      "End: individual \"blobs\" remaining 2\n",
      "New directory created at: /data/Lucas/AL215/AL215_20220506_2_skel_trim_1e6_kept\n",
      "Stack dimensions: (1359, 2048, 2048)\n",
      "/data/Lucas/AL215/AL215_20220506_2_skel_trim_1e6_kept already exists. Will be overwritten.\n"
     ]
    }
   ],
   "source": [
    "stack = trim_small_elements(f'/data/Lucas/{mouse}/skel-seg-{mouse}_20220506_2/weighted_sum_skeleton', 1e6)\n",
    "from_vol_to_folder(stack, r'weighted_skeleton.tif', f'/data/Lucas/{mouse}/{mouse}_20220506_2_skel_trim_1e6_kept')"
   ]
  },
  {
   "cell_type": "code",
   "execution_count": 21,
   "id": "f5e4f96b-3327-4208-9a5f-89c7913d187e",
   "metadata": {},
   "outputs": [
    {
     "name": "stdout",
     "output_type": "stream",
     "text": [
      "Start: individual \"blobs\": 250430\n",
      "Blobs that are removed: 250419\n",
      "End: individual \"blobs\" remaining 11\n",
      "New directory created at: /data/Lucas/AL215/AL215_20220506_2_skel_trim_1e4\n",
      "Stack dimensions: (1359, 2048, 2048)\n",
      "/data/Lucas/AL215/AL215_20220506_2_skel_trim_1e4 already exists. Will be overwritten.\n"
     ]
    }
   ],
   "source": [
    "stack = trim_small_elements(f'/data/Lucas/{mouse}/skel-seg-{mouse}_20220506_2/weighted_sum_skeleton', 1e4)\n",
    "from_vol_to_folder(stack, r'weighted_skeleton.tif', f'/data/Lucas/{mouse}/{mouse}_20220506_2_skel_trim_1e4')"
   ]
  },
  {
   "cell_type": "code",
   "execution_count": 22,
   "id": "320cc1e6-55bd-477b-9d52-05b65e9551d4",
   "metadata": {},
   "outputs": [
    {
     "name": "stdout",
     "output_type": "stream",
     "text": [
      "Start: individual \"blobs\": 250430\n",
      "Blobs that are removed: 250429\n",
      "End: individual \"blobs\" remaining 1\n",
      "New directory created at: /data/Lucas/AL215/AL215_20220506_2_skel_trim_1e7\n",
      "Stack dimensions: (1359, 2048, 2048)\n",
      "/data/Lucas/AL215/AL215_20220506_2_skel_trim_1e7 already exists. Will be overwritten.\n"
     ]
    }
   ],
   "source": [
    "stack = trim_small_elements(f'/data/Lucas/{mouse}/skel-seg-{mouse}_20220506_2/weighted_sum_skeleton', 1e7)\n",
    "from_vol_to_folder(stack, r'weighted_skeleton.tif', f'/data/Lucas/{mouse}/{mouse}_20220506_2_skel_trim_1e7')"
   ]
  },
  {
   "cell_type": "code",
   "execution_count": 24,
   "id": "937cab25-3813-43a2-bc24-a35973104d50",
   "metadata": {},
   "outputs": [
    {
     "name": "stdout",
     "output_type": "stream",
     "text": [
      "Start: individual \"blobs\": 250430\n",
      "Blobs that are removed: 250429\n",
      "End: individual \"blobs\" remaining 1\n",
      "Stack dimensions: (1359, 2048, 2048)\n",
      "/data/Lucas/AL215/AL215_20220506_2_skel_trim_1e6to1e7 already exists. Will be overwritten.\n"
     ]
    }
   ],
   "source": [
    "stack = trim_small_elements(f'/data/Lucas/{mouse}/skel-seg-{mouse}_20220506_2/weighted_sum_skeleton', 1e6, 1e7)\n",
    "from_vol_to_folder(stack, r'weighted_skeleton.tif', f'/data/Lucas/{mouse}/{mouse}_20220506_2_skel_trim_1e6to1e7')"
   ]
  },
  {
   "cell_type": "code",
   "execution_count": 16,
   "id": "1c6e9c27-33df-4db9-bf21-a50b5dc413bc",
   "metadata": {},
   "outputs": [
    {
     "name": "stdout",
     "output_type": "stream",
     "text": [
      "Start: individual \"blobs\": 250430\n",
      "End: individual \"blobs\" remaining 3\n",
      "New directory created at: /data/Lucas/AL215/AL215_20220506_2_skel_fine_trim\n",
      "Stack dimensions: (1359, 2048, 2048)\n",
      "/data/Lucas/AL215/AL215_20220506_2_skel_fine_trim already exists. Will be overwritten.\n"
     ]
    }
   ],
   "source": [
    "stack = keep_selected_elements(f'/data/Lucas/{mouse}/skel-seg-{mouse}_20220506_2/weighted_sum_skeleton', [6, 21192, 211523])\n",
    "from_vol_to_folder(stack, r'weighted_skeleton.tif', f'/data/Lucas/{mouse}/{mouse}_20220506_2_skel_fine_trim')"
   ]
  },
  {
   "cell_type": "markdown",
   "id": "60b221c0-2c88-45ba-91ce-f93d1efc7ea0",
   "metadata": {},
   "source": [
    "## AL246"
   ]
  },
  {
   "cell_type": "code",
   "execution_count": 8,
   "id": "d5f586cd-8ded-4c2f-aee5-1926bb7bf2df",
   "metadata": {},
   "outputs": [],
   "source": [
    "mouse = 'AL246'"
   ]
  },
  {
   "cell_type": "code",
   "execution_count": 9,
   "id": "1d060ae0-cf24-4d95-b15d-93505079f532",
   "metadata": {},
   "outputs": [
    {
     "name": "stdout",
     "output_type": "stream",
     "text": [
      "Individual \"blobs\": 305632\n",
      "Blobs of size superior to 10000.0: 17\n",
      "Index number: 12 size: 7732296\n",
      "Index number: 1292 size: 49687\n",
      "Index number: 13994 size: 10997\n",
      "Index number: 35514 size: 40956\n",
      "Index number: 70976 size: 13783\n",
      "Index number: 71413 size: 11508\n",
      "Index number: 85431 size: 18248\n",
      "Index number: 105729 size: 24154\n",
      "Index number: 106877 size: 11761\n",
      "Index number: 108069 size: 38800\n",
      "Index number: 145746 size: 10201\n",
      "Index number: 202012 size: 17416\n",
      "Index number: 225843 size: 34220\n",
      "Index number: 232931 size: 31859\n",
      "Index number: 239488 size: 15035\n",
      "Index number: 266344 size: 10308\n",
      "Index number: 298449 size: 14211\n"
     ]
    }
   ],
   "source": [
    "i_list, prop = find_biggest_elements(f'/data/Lucas/{mouse}/skel-seg-{mouse}_20220506_2/weighted_sum_skeleton', 1e4)\n",
    "print_biggest_connected_components(i_list, prop)"
   ]
  },
  {
   "cell_type": "code",
   "execution_count": 10,
   "id": "c682fd54-be8f-46ba-ace3-e05415077e1e",
   "metadata": {},
   "outputs": [
    {
     "name": "stdout",
     "output_type": "stream",
     "text": [
      "Start: individual \"blobs\": 305632\n",
      "Total number of voxels: 10591606\n"
     ]
    },
    {
     "data": {
      "text/plain": [
       "[]"
      ]
     },
     "execution_count": 10,
     "metadata": {},
     "output_type": "execute_result"
    }
   ],
   "source": [
    "compute_skel_probas(f'/data/Lucas/{mouse}/skel-seg-{mouse}_20220506_2/weighted_sum_skeleton', True)"
   ]
  },
  {
   "cell_type": "code",
   "execution_count": 11,
   "id": "12817756-0acd-492f-9d0e-6ac8de741e79",
   "metadata": {},
   "outputs": [
    {
     "name": "stdout",
     "output_type": "stream",
     "text": [
      "Start: individual \"blobs\": 305632\n",
      "Blobs that are removed: 305616\n",
      "End: individual \"blobs\" remaining 16\n",
      "New directory created at: /data/Lucas/AL246/AL246_20220506_2_skel_trim_1e4to1e6_kept\n",
      "Stack dimensions: (1500, 2048, 4096)\n",
      "/data/Lucas/AL246/AL246_20220506_2_skel_trim_1e4to1e6_kept already exists. Will be overwritten.\n"
     ]
    }
   ],
   "source": [
    "stack = trim_small_elements(f'/data/Lucas/{mouse}/skel-seg-{mouse}_20220506_2/weighted_sum_skeleton', 1e4, 1e6, True)\n",
    "from_vol_to_folder(stack, r'weighted_skeleton.tif', f'/data/Lucas/{mouse}/{mouse}_20220506_2_skel_trim_1e4to1e6_kept')"
   ]
  },
  {
   "cell_type": "code",
   "execution_count": 12,
   "id": "262f3046-bc18-4e93-9a8c-effdc0506bb2",
   "metadata": {},
   "outputs": [
    {
     "name": "stdout",
     "output_type": "stream",
     "text": [
      "Start: individual \"blobs\": 305632\n",
      "Blobs that are removed: 305631\n",
      "End: individual \"blobs\" remaining 1\n",
      "New directory created at: /data/Lucas/AL246/AL246_20220506_2_skel_trim_1e6\n",
      "Stack dimensions: (1500, 2048, 2048)\n",
      "/data/Lucas/AL246/AL246_20220506_2_skel_trim_1e6 already exists. Will be overwritten.\n"
     ]
    }
   ],
   "source": [
    "stack = trim_small_elements(f'/data/Lucas/{mouse}/skel-seg-{mouse}_20220506_2/weighted_sum_skeleton', 1e6)\n",
    "from_vol_to_folder(stack, r'weighted_skeleton.tif', f'/data/Lucas/{mouse}/{mouse}_20220506_2_skel_trim_1e6')"
   ]
  },
  {
   "cell_type": "code",
   "execution_count": 13,
   "id": "c162bfa8-a1bb-445c-9d1b-ba354e2f92b5",
   "metadata": {},
   "outputs": [
    {
     "name": "stdout",
     "output_type": "stream",
     "text": [
      "Start: individual \"blobs\": 305632\n",
      "Blobs that are removed: 305615\n",
      "End: individual \"blobs\" remaining 17\n",
      "New directory created at: /data/Lucas/AL246/AL246_20220506_2_skel_trim_1e4\n",
      "Stack dimensions: (1500, 2048, 2048)\n",
      "/data/Lucas/AL246/AL246_20220506_2_skel_trim_1e4 already exists. Will be overwritten.\n"
     ]
    }
   ],
   "source": [
    "stack = trim_small_elements(f'/data/Lucas/{mouse}/skel-seg-{mouse}_20220506_2/weighted_sum_skeleton', 1e4)\n",
    "from_vol_to_folder(stack, r'weighted_skeleton.tif', f'/data/Lucas/{mouse}/{mouse}_20220506_2_skel_trim_1e4')"
   ]
  },
  {
   "cell_type": "markdown",
   "id": "40b423ea-d255-474c-8cd5-044939509cda",
   "metadata": {},
   "source": [
    "## AL257"
   ]
  },
  {
   "cell_type": "code",
   "execution_count": 9,
   "id": "f54ad2ac-3ec0-4a63-9766-4ccc95e24f2b",
   "metadata": {},
   "outputs": [],
   "source": [
    "mouse = 'AL257'"
   ]
  },
  {
   "cell_type": "code",
   "execution_count": 22,
   "id": "7a8b7a96-d00d-4161-9585-2c567d84cd50",
   "metadata": {},
   "outputs": [
    {
     "name": "stdout",
     "output_type": "stream",
     "text": [
      "Individual \"blobs\": 315179\n",
      "Blobs of size superior to 10000.0: 4\n",
      "Index number: 1127 size: 10319261\n",
      "Index number: 215010 size: 14163\n",
      "Index number: 246460 size: 20105\n",
      "Index number: 290415 size: 12062\n"
     ]
    }
   ],
   "source": [
    "i_list, prop = find_biggest_elements(f'/data/Lucas/{mouse}/skel-seg-{mouse}_20220506_2/weighted_sum_skeleton', 1e4)\n",
    "print_biggest_connected_components(i_list, prop)"
   ]
  },
  {
   "cell_type": "markdown",
   "id": "609601a8-0196-47de-a318-733a482234c4",
   "metadata": {},
   "source": [
    "#### I kept only the biggest one, the other 3 are artifacts. "
   ]
  },
  {
   "cell_type": "code",
   "execution_count": 20,
   "id": "d7ed9cdf-7285-4558-b4b8-c392a7468e73",
   "metadata": {},
   "outputs": [
    {
     "name": "stdout",
     "output_type": "stream",
     "text": [
      "Start: individual \"blobs\": 315179\n",
      "Total number of voxels: 12396275\n"
     ]
    },
    {
     "data": {
      "text/plain": [
       "[]"
      ]
     },
     "execution_count": 20,
     "metadata": {},
     "output_type": "execute_result"
    }
   ],
   "source": [
    "compute_skel_probas(f'/data/Lucas/{mouse}/skel-seg-{mouse}_20220506_2/weighted_sum_skeleton', True)"
   ]
  },
  {
   "cell_type": "code",
   "execution_count": 23,
   "id": "15ca68ae-695a-4484-aaf5-7b2b3a55adeb",
   "metadata": {},
   "outputs": [
    {
     "name": "stdout",
     "output_type": "stream",
     "text": [
      "Start: individual \"blobs\": 315179\n",
      "Blobs that are removed: 315175\n",
      "End: individual \"blobs\" remaining 4\n",
      "Stack dimensions: (1296, 2048, 2048)\n",
      "/data/Lucas/AL257/AL257_20220506_2_skel_trim_1e4 already exists. Will be overwritten.\n"
     ]
    }
   ],
   "source": [
    "stack = trim_small_elements(f'/data/Lucas/{mouse}/skel-seg-{mouse}_20220506_2/weighted_sum_skeleton', 1e4)\n",
    "from_vol_to_folder(stack, r'weighted_skeleton.tif', f'/data/Lucas/{mouse}/{mouse}_20220506_2_skel_trim_1e4')"
   ]
  },
  {
   "cell_type": "code",
   "execution_count": 10,
   "id": "4b1871b2-fef9-4946-9b56-77d0bf1aedb3",
   "metadata": {},
   "outputs": [
    {
     "name": "stdout",
     "output_type": "stream",
     "text": [
      "Start: individual \"blobs\": 315179\n",
      "Blobs that are removed: 315176\n",
      "End: individual \"blobs\" remaining 3\n",
      "Stack dimensions: (1296, 2048, 2048)\n",
      "/data/Lucas/AL257/AL257_20220506_2_skel_trim_1e4to1e6_kept already exists. Will be overwritten.\n"
     ]
    }
   ],
   "source": [
    "stack = trim_small_elements(f'/data/Lucas/{mouse}/skel-seg-{mouse}_20220506_2/weighted_sum_skeleton', 1e4, 1e6, True)\n",
    "from_vol_to_folder(stack, r'weighted_skeleton.tif', f'/data/Lucas/{mouse}/{mouse}_20220506_2_skel_trim_1e4to1e6_kept')"
   ]
  },
  {
   "cell_type": "code",
   "execution_count": 24,
   "id": "2548c227-ce02-44ba-aff3-c11e0bce5cc8",
   "metadata": {},
   "outputs": [
    {
     "name": "stdout",
     "output_type": "stream",
     "text": [
      "Start: individual \"blobs\": 315179\n",
      "Blobs that are removed: 315178\n",
      "End: individual \"blobs\" remaining 1\n",
      "New directory created at: /data/Lucas/AL257/AL257_20220506_2_skel_trim_1e6\n",
      "Stack dimensions: (1296, 2048, 2048)\n",
      "/data/Lucas/AL257/AL257_20220506_2_skel_trim_1e6 already exists. Will be overwritten.\n"
     ]
    }
   ],
   "source": [
    "stack = trim_small_elements(f'/data/Lucas/{mouse}/skel-seg-{mouse}_20220506_2/weighted_sum_skeleton', 1e6)\n",
    "from_vol_to_folder(stack, r'weighted_skeleton.tif', f'/data/Lucas/{mouse}/{mouse}_20220506_2_skel_trim_1e6')"
   ]
  },
  {
   "cell_type": "code",
   "execution_count": 10,
   "id": "2ca67646-303a-4fab-b7e9-292d3e42f359",
   "metadata": {},
   "outputs": [
    {
     "name": "stdout",
     "output_type": "stream",
     "text": [
      "Individual \"blobs\": 273441\n",
      "Blobs of size superior to 10000: 15\n"
     ]
    }
   ],
   "source": [
    "i_list, _ = find_biggest_elements(r'/data/Lucas/AL257/skel-seg-AL257_20220428_4/weighted_sum_skeleton', 10000)"
   ]
  },
  {
   "cell_type": "code",
   "execution_count": 6,
   "id": "a806c1b0-7d32-4a76-b227-e003e22397e4",
   "metadata": {},
   "outputs": [],
   "source": [
    "def print_biggest_connected_components(indexes, propsa):\n",
    "    max_size = 0\n",
    "    for index in indexes:\n",
    "        ccompo_size = len(propsa[index].coords)\n",
    "        print(index, ccompo_size)"
   ]
  },
  {
   "cell_type": "markdown",
   "id": "b2978d38-6d50-44f5-a6dc-ca33c8b383a0",
   "metadata": {},
   "source": [
    "## Old AL215"
   ]
  },
  {
   "cell_type": "code",
   "execution_count": 7,
   "id": "a6bfb09c-d964-4218-a5c4-2789bf1226ec",
   "metadata": {},
   "outputs": [
    {
     "name": "stdout",
     "output_type": "stream",
     "text": [
      "Individual \"blobs\": 269868\n",
      "Blobs of size superior to 10000: 18\n"
     ]
    }
   ],
   "source": [
    "i_list, prop = find_biggest_elements(r'/data/Lucas/AL215/skel-seg-AL215_20220428_4/weighted_sum_skeleton', 10000)"
   ]
  },
  {
   "cell_type": "code",
   "execution_count": 31,
   "id": "69e47ea5-5853-4e77-8bc3-419eedadf287",
   "metadata": {},
   "outputs": [
    {
     "name": "stdout",
     "output_type": "stream",
     "text": [
      "8 24707858\n",
      "13896 41908\n",
      "17630 16118\n",
      "21599 2975779\n",
      "21612 10030\n",
      "53831 16411\n",
      "77573 10579\n",
      "126159 15876\n",
      "128825 13973\n",
      "133647 34214\n",
      "142462 69692\n",
      "167920 11422\n",
      "176482 13356\n",
      "191697 15502\n",
      "199147 15136\n",
      "226928 18326\n",
      "233509 36058\n",
      "261815 27248\n"
     ]
    }
   ],
   "source": [
    "print_biggest_connected_components(i_list, prop)"
   ]
  },
  {
   "cell_type": "code",
   "execution_count": null,
   "id": "22b9ac3b-f603-4b9d-9327-541b6d6a57b1",
   "metadata": {},
   "outputs": [
    {
     "name": "stdout",
     "output_type": "stream",
     "text": [
      "Start: individual \"blobs\": 269868\n"
     ]
    }
   ],
   "source": [
    "%%time\n",
    "stack = trim_small_elements(r'/data/Lucas/AL215/skel-seg-AL215_20220428_4/weighted_sum_skeleton', 6*1e4, 1e5)\n",
    "from_vol_to_folder(stack, r'weighted_skeleton.tif', r'/data/Lucas/AL215/AL215_20220428_4_skel_trim_split2nd')\n",
    "del stack"
   ]
  },
  {
   "cell_type": "code",
   "execution_count": 37,
   "id": "ffe92833-afe7-4c3f-80a2-c90d325ddb32",
   "metadata": {},
   "outputs": [
    {
     "name": "stdout",
     "output_type": "stream",
     "text": [
      "Start: individual \"blobs\": 269868\n",
      "Blobs that are removed: 269867\n",
      "End: individual \"blobs\" remaining 1\n",
      "Stack dimensions: (1359, 2048, 2048)\n",
      "/data/Lucas/AL215/AL215_20220428_4_skel_trim_split1st already exists. Will be overwritten.\n",
      "CPU times: user 1min 47s, sys: 2min 2s, total: 3min 50s\n",
      "Wall time: 5min 57s\n"
     ]
    }
   ],
   "source": [
    "%%time\n",
    "stack = trim_small_elements(r'/data/Lucas/AL215/skel-seg-AL215_20220428_4/weighted_sum_skeleton', 1e7)\n",
    "from_vol_to_folder(stack, r'weighted_skeleton.tif', r'/data/Lucas/AL215/AL215_20220428_4_skel_trim_split1st')\n",
    "del stack"
   ]
  },
  {
   "cell_type": "code",
   "execution_count": null,
   "id": "5dc36824-5710-4f1b-9bf3-ebba48f51e99",
   "metadata": {},
   "outputs": [],
   "source": [
    "i_list, _ = find_biggest_elements(r'/data/Lucas/AL257/skel-seg-AL257_20220428_4/weighted_sum_skeleton', 10000)"
   ]
  },
  {
   "cell_type": "markdown",
   "id": "98909547-ee76-4e36-a713-30b212e1908d",
   "metadata": {},
   "source": [
    "## Tree-metrics or repeatability\n",
    "\n",
    "1) First element to consider is repeatability of the pipeline: idea that quantification should give similar results in different brains. This part is most important. \n",
    "2) Tree-comparision might be interessant to consider difference in projection patterns between different mice. Assure a better performance of the model maybe. "
   ]
  },
  {
   "cell_type": "code",
   "execution_count": 8,
   "id": "716c4295-cadf-4279-9aa7-c1bc76a6ce3b",
   "metadata": {},
   "outputs": [],
   "source": [
    "tree1 = prop[i_list[2]].coords"
   ]
  },
  {
   "cell_type": "code",
   "execution_count": 9,
   "id": "ab50bb28-a630-43bc-906a-67e74412f78f",
   "metadata": {},
   "outputs": [
    {
     "data": {
      "text/plain": [
       "array([[ 130, 1346,  910],\n",
       "       [ 131, 1342,  908],\n",
       "       [ 131, 1343,  910],\n",
       "       ...,\n",
       "       [ 236, 1266,  935],\n",
       "       [ 237, 1267,  934],\n",
       "       [ 237, 1268,  934]])"
      ]
     },
     "execution_count": 9,
     "metadata": {},
     "output_type": "execute_result"
    }
   ],
   "source": [
    "tree1"
   ]
  },
  {
   "cell_type": "code",
   "execution_count": 12,
   "id": "55f42acc-d6bf-4d54-ba8b-fb130ce36d98",
   "metadata": {},
   "outputs": [
    {
     "name": "stderr",
     "output_type": "stream",
     "text": [
      "In file included from /home/lucasdelez/anaconda3/envs/data_analysis/lib/python3.9/site-packages/numpy/core/include/numpy/ndarraytypes.h:1969,\n",
      "                 from /home/lucasdelez/anaconda3/envs/data_analysis/lib/python3.9/site-packages/numpy/core/include/numpy/ndarrayobject.h:12,\n",
      "                 from /home/lucasdelez/anaconda3/envs/data_analysis/lib/python3.9/site-packages/numpy/core/include/numpy/arrayobject.h:4,\n",
      "                 from /home/lucasdelez/.cache/ipython/cython/_cython_magic_5ff94cd396ab465949e4843cd0af9004.c:710:\n",
      "/home/lucasdelez/anaconda3/envs/data_analysis/lib/python3.9/site-packages/numpy/core/include/numpy/npy_1_7_deprecated_api.h:17:2: warning: #warning \"Using deprecated NumPy API, disable it with \" \"#define NPY_NO_DEPRECATED_API NPY_1_7_API_VERSION\" [-Wcpp]\n",
      "   17 | #warning \"Using deprecated NumPy API, disable it with \" \\\n",
      "      |  ^~~~~~~\n"
     ]
    }
   ],
   "source": [
    "%%cython \n",
    "import numpy as np\n",
    "cimport numpy as np\n",
    "from tqdm import tqdm\n",
    "\n",
    "def maximum_euclidean_dist(np.ndarray[long long, ndim=2] arr):\n",
    "    cdef float max_dist = 0\n",
    "    cdef int coo1_max = 0\n",
    "    cdef int coo2_max = 0\n",
    "    for i in tqdm(range(len(arr))): \n",
    "        for j in range(i+1, len(arr)):\n",
    "            dist = np.linalg.norm(arr[i] - arr[j])\n",
    "            if dist > max_dist:\n",
    "                max_dist = dist\n",
    "                coo1_max = i\n",
    "                coo2_max = j\n",
    "    return max_dist, [coo1_max, coo2_max]"
   ]
  },
  {
   "cell_type": "code",
   "execution_count": 13,
   "id": "c6e024b1-8778-4bee-9c1e-6da3ded1d256",
   "metadata": {},
   "outputs": [
    {
     "name": "stderr",
     "output_type": "stream",
     "text": [
      "100%|█████████████████████████████████████| 16118/16118 [07:59<00:00, 33.61it/s]\n"
     ]
    },
    {
     "data": {
      "text/plain": [
       "(195.67575073242188, [304, 11833])"
      ]
     },
     "execution_count": 13,
     "metadata": {},
     "output_type": "execute_result"
    }
   ],
   "source": [
    "maximum_euclidean_dist(tree1)"
   ]
  },
  {
   "cell_type": "code",
   "execution_count": 53,
   "id": "a8605049-4825-4cf9-bee8-1870a7464b9b",
   "metadata": {},
   "outputs": [
    {
     "data": {
      "text/plain": [
       "3.1622776601683795"
      ]
     },
     "execution_count": 53,
     "metadata": {},
     "output_type": "execute_result"
    }
   ],
   "source": [
    "np.linalg.norm(tree1[0]-tree1[2])"
   ]
  },
  {
   "cell_type": "code",
   "execution_count": 58,
   "id": "b3752a81-4ce0-4c11-bac0-4a4ee13d7adf",
   "metadata": {},
   "outputs": [
    {
     "data": {
      "text/plain": [
       "numpy.ndarray"
      ]
     },
     "execution_count": 58,
     "metadata": {},
     "output_type": "execute_result"
    }
   ],
   "source": [
    "type(tree1)"
   ]
  },
  {
   "cell_type": "code",
   "execution_count": null,
   "id": "0a3a8448-f746-45b5-8393-7e9d74c2a3f2",
   "metadata": {},
   "outputs": [],
   "source": [
    "%%cython \n",
    "import numpy as np\n",
    "cimport numpy as np\n",
    "from tqdm import tqdm\n",
    "\n",
    "### Faster way to compute this but should consider both coordinates in optimization.\n",
    "\n",
    "def maximum_euclidean_dist_connected(np.ndarray[long long, ndim=2] arr, long long step):\n",
    "    cdef float max_dist = 0\n",
    "    cdef int coo1_max = 0\n",
    "    cdef int coo2_max = 0\n",
    "    \n",
    "    list = []\n",
    "    my_range = range(0, len(arr), step)\n",
    "    range_list = []\n",
    "    range_list.append(my_range)\n",
    "    while step > 10:\n",
    "        for r in range_list:\n",
    "            for i in r:\n",
    "                for j in range(len(arr)):\n",
    "                    dist = np.linalg.norm(arr[i]-arr[j])\n",
    "                    if dist > max_dist:\n",
    "                        max_dist = dist\n",
    "                        coo1_max = i\n",
    "                        coo2_max = j\n",
    "                    if dist + step > max_dist and dist - step < max_dist:\n",
    "                        list.append([i, j])\n",
    "                    if dist > max_dist + step:\n",
    "                        list = []\n",
    "        step = step//10\n",
    "        range_list = []\n",
    "        for i in range(len(list))\n",
    "            range_list.append(range(\n",
    "    \n",
    "    for i in tqdm(range(len(arr))): \n",
    "        for j in range(i+1, len(arr)):\n",
    "            dist = np.linalg.norm(arr[i] - arr[j])\n",
    "            if dist > max_dist:\n",
    "                max_dist = dist\n",
    "                coo1_max = i\n",
    "                coo2_max = j\n",
    "    return max_dist, [coo1_max, coo2_max]"
   ]
  }
 ],
 "metadata": {
  "kernelspec": {
   "display_name": "Python 3 (ipykernel)",
   "language": "python",
   "name": "python3"
  },
  "language_info": {
   "codemirror_mode": {
    "name": "ipython",
    "version": 3
   },
   "file_extension": ".py",
   "mimetype": "text/x-python",
   "name": "python",
   "nbconvert_exporter": "python",
   "pygments_lexer": "ipython3",
   "version": "3.9.11"
  },
  "toc-autonumbering": false,
  "toc-showcode": true,
  "toc-showmarkdowntxt": true
 },
 "nbformat": 4,
 "nbformat_minor": 5
}
