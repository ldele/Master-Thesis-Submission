{
 "cells": [
  {
   "cell_type": "code",
   "execution_count": 1,
   "id": "98346556-e1c0-4ae9-b431-0b53581ae115",
   "metadata": {},
   "outputs": [],
   "source": [
    "import numpy as np\n",
    "import sys\n",
    "import os\n",
    "import shutil\n",
    "import time\n",
    "import cv2\n",
    "from PIL import Image\n",
    "from tqdm import tqdm\n",
    "from matplotlib import pyplot as plt\n",
    "import SimpleITK as sitk\n",
    "\n",
    "from skimage import io\n",
    "from skimage.measure import block_reduce\n",
    "import dask_image.imread\n",
    "\n",
    "from scipy import ndimage # For the non-integer (continuous) zoom function\n",
    "\n",
    "from skelly_module import *"
   ]
  },
  {
   "cell_type": "code",
   "execution_count": 2,
   "id": "4bd9fb5f-2674-4f39-8338-4571692b3fa4",
   "metadata": {},
   "outputs": [],
   "source": [
    "def get_dir(path):\n",
    "    tiffs = [os.path.join(path, f) for f in os.listdir(path) if f[0] != '.']\n",
    "    return sorted(tiffs)"
   ]
  },
  {
   "cell_type": "code",
   "execution_count": 7,
   "id": "1953d99f-2912-413b-a4e8-9dca488cfb6a",
   "metadata": {},
   "outputs": [],
   "source": [
    "\"\"\" \n",
    "# Fast but less precise\n",
    "\n",
    "input_folder = r'/data/Lucas/AL210/AL210_1'\n",
    "output_folder = r'/home/lucasdelez/Documents/AllenBrainCCFv3'\n",
    "\n",
    "def downscale_imgs_allen(in_folder, out_folder, factor):\n",
    "    img_stack = dask_image.imread.imread(in_folder + \"/*.tif\").compute()\n",
    "    return block_reduce(img_stack, block_size=factor, func=np.mean)\n",
    "\n",
    "img_stack = downscale_imgs_allen(input_folder, output_folder, factor=(5,5,5)) #Factor defined for Mesospim\n",
    "write_tiff_stack(img_stack, r'/home/lucasdelez/Documents/AllenBrainCCFv3/Al210_25um_corrected.tif')\n",
    "\"\"\""
   ]
  },
  {
   "cell_type": "code",
   "execution_count": 4,
   "id": "08135340-7e7a-492c-b274-cdac17721420",
   "metadata": {},
   "outputs": [],
   "source": [
    "# Slow but non-integer subsampling possible\n",
    "\n",
    "input_folder = r'/data/Lucas/AL211/AL211_1'\n",
    "output_folder = r'/home/lucasdelez/Documents/AllenBrainCCFv3'\n",
    "\n",
    "def downscale_imgs_allen(in_folder, out_folder, factor):\n",
    "    img_stack = dask_image.imread.imread(in_folder + \"/*.tif\").compute()\n",
    "    return ndimage.zoom(img_stack, zoom=factor)\n",
    "\n",
    "zoom_seq = (5/25,5.3/25,5.3/25)\n",
    "img_stack = downscale_imgs_allen(input_folder, output_folder, factor=zoom_seq) #Factor defined for Mesospim\n",
    "write_tiff_stack(img_stack, r'/home/lucasdelez/Documents/AllenBrainCCFv3/Al211_25um_corrected.tif')"
   ]
  },
  {
   "cell_type": "markdown",
   "id": "efb2ef79-3b15-45ba-a8ff-120bf2608aca",
   "metadata": {},
   "source": [
    "### Some other stuff"
   ]
  },
  {
   "cell_type": "code",
   "execution_count": 7,
   "id": "8cc4090e-e7bf-4d9e-bcd4-181db46b4bcc",
   "metadata": {},
   "outputs": [],
   "source": [
    "write_tiff_stack(img_stack, r'/home/lucasdelez/Documents/AllenBrainCCFv3/Al211_25um.tif')"
   ]
  },
  {
   "cell_type": "code",
   "execution_count": 45,
   "id": "ac0f5527-d248-4c1c-b637-9df201aec4a3",
   "metadata": {},
   "outputs": [],
   "source": [
    "def downscale_imgs(in_folder, out_folder, factor=(10,10,1)):\n",
    "    images = get_dir(in_folder)\n",
    "    \n",
    "    for _,item in enumerate(tqdm(images)):\n",
    "        img = cv2.imread(item, -1) #black/white\n",
    "        out_img = block_reduce(img, block_size=factor, func=np.mean)\n",
    "        out_img = Image.fromarray(out_img)\n",
    "        out_img.save(out_folder + \"//\" + \"ds_\" + os.path.basename(item))"
   ]
  },
  {
   "cell_type": "code",
   "execution_count": 46,
   "id": "3d9c072e-7fb3-4025-8679-4304d9c83861",
   "metadata": {},
   "outputs": [],
   "source": [
    "input_folder = r'/data/Lucas/Substacks/AL215s/Al215-substack'\n",
    "output_folder = r'/data/Lucas/Substacks/AL215s/Al215-substack-ds'"
   ]
  },
  {
   "cell_type": "code",
   "execution_count": 47,
   "id": "06268035-c025-49dd-ad9b-ca65f9d9964a",
   "metadata": {},
   "outputs": [
    {
     "name": "stderr",
     "output_type": "stream",
     "text": [
      "100%|███████████████████████████████████████████████████████████████████████████████████████████████████████████████████████████████████████████████████████████████████████████████████████████████████████████████████████████████████████████| 100/100 [00:01<00:00, 62.11it/s]\n"
     ]
    }
   ],
   "source": [
    "downscale_imgs(input_folder, output_folder, (10,10))"
   ]
  },
  {
   "cell_type": "code",
   "execution_count": 2,
   "id": "f61a7239-1ed0-4aac-bff1-688e928ba2ab",
   "metadata": {},
   "outputs": [
    {
     "name": "stderr",
     "output_type": "stream",
     "text": [
      "100%|█████████████████████████████████████████████████████████████████████████| 2335/2335 [00:00<00:00, 2327400.15it/s]\n"
     ]
    }
   ],
   "source": [
    "input_folder = r\"M:\\data\\AL177\\AL177_COLM\\RES(16214x17088x2335)\"\n",
    "output_folder = r\"E:\\Lucas\\output folder\"\n",
    "downsampling_factor = 10\n",
    "\n",
    "def downscale_imgs(in_folder, out_folder, factor):\n",
    "    images=os.listdir(in_folder)\n",
    "    images=[i for i in images if i.endswith('.tif')]\n",
    "    images.sort()\n",
    "    \n",
    "    for count,item in enumerate(tqdm(images)):\n",
    "        if count > 2335:\n",
    "            img = cv2.imread(in_folder + \"/\" + item, -1)\n",
    "            out_img = block_reduce(img, block_size=(factor, factor), func=np.mean)\n",
    "            out_img = Image.fromarray(out_img)\n",
    "            out_img.save(out_folder + \"//\" + \"ds_\" + os.path.basename(item))\n",
    "\n",
    "downscale_imgs(input_folder, output_folder, downsampling_factor)    "
   ]
  },
  {
   "cell_type": "code",
   "execution_count": 3,
   "id": "3bda6d9f-d334-49f5-aa0e-0eddd7957563",
   "metadata": {},
   "outputs": [
    {
     "name": "stdout",
     "output_type": "stream",
     "text": [
      "(1837, 2048, 2048)\n"
     ]
    }
   ],
   "source": [
    "tiff_stack_file = r\"M:\\data\\AL177\\177_561nm.tif\"\n",
    "\n",
    "#Can be extremely RAM intensive\n",
    "image_stack = io.imread(tiff_stack_file)\n",
    "print(image_stack.shape)"
   ]
  },
  {
   "cell_type": "code",
   "execution_count": 4,
   "id": "32090756-8350-46b1-929d-001572a38ea3",
   "metadata": {},
   "outputs": [],
   "source": [
    "selected_img = image_stack[800]"
   ]
  },
  {
   "cell_type": "code",
   "execution_count": 5,
   "id": "0535753d-981a-46ea-9a8e-c3f3a7474ee1",
   "metadata": {},
   "outputs": [],
   "source": [
    "def mse(imageA, imageB):\n",
    "    err = np.sum((imageA.astype(\"float\") - imageB.astype(\"float\")) **2)\n",
    "    err /= float(imageA.shape[0] * imageA.shape[1])\n",
    "    return err"
   ]
  },
  {
   "cell_type": "code",
   "execution_count": 9,
   "id": "919203f1-7329-476e-aeb1-289ae0539a38",
   "metadata": {},
   "outputs": [
    {
     "name": "stderr",
     "output_type": "stream",
     "text": [
      "100%|██████████████████████████████████████████████████████████████████████████████| 2335/2335 [06:07<00:00,  6.35it/s]\n"
     ]
    }
   ],
   "source": [
    "images=os.listdir(output_folder)\n",
    "images=[i for i in images if i.endswith('.tif')]\n",
    "images.sort()\n",
    "dsize = selected_img.shape\n",
    "\n",
    "img = cv2.imread(output_folder + \"/\" + images[0], -1)\n",
    "img = cv2.resize(img, dsize) \n",
    "min_err = mse(selected_img, img)\n",
    "best_comp = 0\n",
    "\n",
    "for count,item in enumerate(tqdm(images)):\n",
    "    img = cv2.imread(output_folder + \"/\" + item, -1)\n",
    "    img = cv2.resize(img, dsize)\n",
    "    err = mse(np.multiply(selected_img,1/np.max(selected_img)), np.multiply(img,1/np.max(img)))\n",
    "    if min_err > err:\n",
    "        min_err = err\n",
    "        best_comp = count"
   ]
  },
  {
   "cell_type": "code",
   "execution_count": 12,
   "id": "838cb3ef-f02b-4043-b46a-513a4000626b",
   "metadata": {},
   "outputs": [
    {
     "data": {
      "text/plain": [
       "0.00018329006343443312"
      ]
     },
     "execution_count": 12,
     "metadata": {},
     "output_type": "execute_result"
    }
   ],
   "source": [
    "min_err"
   ]
  },
  {
   "cell_type": "code",
   "execution_count": 13,
   "id": "db6b419e-f37b-406c-b7aa-6a802f2f6f4f",
   "metadata": {},
   "outputs": [
    {
     "data": {
      "text/plain": [
       "'ds_000000_000000_039600.tif'"
      ]
     },
     "execution_count": 13,
     "metadata": {},
     "output_type": "execute_result"
    }
   ],
   "source": [
    "images[best_comp]"
   ]
  },
  {
   "cell_type": "code",
   "execution_count": null,
   "id": "c5e90401-c2a9-4593-a4e4-e6b84a03a5ee",
   "metadata": {},
   "outputs": [],
   "source": []
  }
 ],
 "metadata": {
  "kernelspec": {
   "display_name": "Python 3 (ipykernel)",
   "language": "python",
   "name": "python3"
  },
  "language_info": {
   "codemirror_mode": {
    "name": "ipython",
    "version": 3
   },
   "file_extension": ".py",
   "mimetype": "text/x-python",
   "name": "python",
   "nbconvert_exporter": "python",
   "pygments_lexer": "ipython3",
   "version": "3.9.11"
  }
 },
 "nbformat": 4,
 "nbformat_minor": 5
}
